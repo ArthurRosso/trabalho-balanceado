{
 "cells": [
  {
   "cell_type": "code",
   "execution_count": 1,
   "id": "86d4cc39-de15-44aa-a8e0-c16106c17766",
   "metadata": {},
   "outputs": [
    {
     "name": "stderr",
     "output_type": "stream",
     "text": [
      "\u001b[32m\u001b[1m   Resolving\u001b[22m\u001b[39m package versions...\n",
      "\u001b[32m\u001b[1m  No Changes\u001b[22m\u001b[39m to `~/.julia/environments/v1.11/Project.toml`\n",
      "\u001b[32m\u001b[1m  No Changes\u001b[22m\u001b[39m to `~/.julia/environments/v1.11/Manifest.toml`\n",
      "\u001b[32m\u001b[1m   Resolving\u001b[22m\u001b[39m package versions...\n",
      "\u001b[32m\u001b[1m  No Changes\u001b[22m\u001b[39m to `~/.julia/environments/v1.11/Project.toml`\n",
      "\u001b[32m\u001b[1m  No Changes\u001b[22m\u001b[39m to `~/.julia/environments/v1.11/Manifest.toml`\n",
      "\u001b[32m\u001b[1m   Resolving\u001b[22m\u001b[39m package versions...\n",
      "\u001b[32m\u001b[1m  No Changes\u001b[22m\u001b[39m to `~/.julia/environments/v1.11/Project.toml`\n",
      "\u001b[32m\u001b[1m  No Changes\u001b[22m\u001b[39m to `~/.julia/environments/v1.11/Manifest.toml`\n"
     ]
    }
   ],
   "source": [
    "import Pkg; Pkg.add(\"JuMP\");  Pkg.add(\"GLPK\");  Pkg.add(\"DelimitedFiles\"); "
   ]
  },
  {
   "cell_type": "code",
   "execution_count": 2,
   "id": "2167a91f-c3a4-4e32-9623-643d3df85afc",
   "metadata": {},
   "outputs": [],
   "source": [
    "using JuMP          # Modeling language for optimization\n",
    "using GLPK          # Open-source solver for linear programming"
   ]
  },
  {
   "cell_type": "code",
   "execution_count": 3,
   "id": "3663cb1c-dfba-4dc2-80e5-403829b0026c",
   "metadata": {},
   "outputs": [
    {
     "data": {
      "text/plain": [
       "13"
      ]
     },
     "execution_count": 3,
     "metadata": {},
     "output_type": "execute_result"
    }
   ],
   "source": [
    "# Dados do problema\n",
    "n = 37  # número de operações\n",
    "m = 13  # número de trabalhadores"
   ]
  },
  {
   "cell_type": "code",
   "execution_count": 4,
   "id": "7b5723d2-4585-4f74-9c92-ee662f6b3737",
   "metadata": {},
   "outputs": [
    {
     "data": {
      "text/plain": [
       "13×37 Matrix{Float64}:\n",
       " 0.183139  0.605582  0.305518  0.090858  …  0.1       0.575311  0.431696\n",
       " 0.722704  0.379281  0.217166  0.823136     0.348893  0.352515  0.423103\n",
       " 0.549786  0.968937  0.073298  0.436735     0.333689  0.447103  0.709307\n",
       " 1.06591   0.1       0.1       0.1          0.958297  1.37218   1.12293\n",
       " 0.402125  0.342582  0.1       0.523577     0.1       0.240933  0.530501\n",
       " 0.283069  0.685761  0.08595   0.101148  …  0.109919  0.1       1.34733\n",
       " 0.1       0.1       0.1       0.1          0.026766  0.1       0.959405\n",
       " 0.1       0.492369  0.1       0.248441     0.1       0.281635  0.260174\n",
       " 0.436333  0.642633  0.051075  0.749964     0.1       0.226761  0.80843\n",
       " 1.07103   0.1       0.128019  0.1          0.1       1.20141   0.1\n",
       " 0.1       0.277295  0.1       0.354871  …  0.1       0.1       0.1\n",
       " 0.415755  0.4222    0.356851  0.220622     0.1       0.76809   0.364154\n",
       " 0.986747  0.09792   0.1       0.399361     0.741523  0.181912  0.821711"
      ]
     },
     "execution_count": 4,
     "metadata": {},
     "output_type": "execute_result"
    }
   ],
   "source": [
    "production_times = [\n",
    "    0.183139 0.605582 0.305518 0.090858 0.370164 0.724743 0.590451 0.379136 0.601041 0.817994 0.767640 0.452775 0.637407 0.645494 0.616733 0.592551 0.391614 0.658357 1.004405 0.098053 0.220737 0.192181 0.023187 0.590805 0.748719 0.100000 0.744637 0.210445 0.477795 0.290140 0.100000 0.080564 0.410204 0.857599 0.100000 0.575311 0.431696 \n",
    "    0.722704 0.379281 0.217166 0.823136 0.265645 0.578194 1.118839 0.405270 0.289360 0.565096 0.906647 0.290319 0.442410 0.536681 1.049764 0.687675 0.938496 0.600024 0.600196 0.501004 0.675099 0.204400 0.290622 1.042604 0.731260 0.415747 1.095737 0.390081 0.768204 0.589006 0.486085 0.490498 0.429869 0.516831 0.348893 0.352515 0.423103 \n",
    "    0.549786 0.968937 0.073298 0.436735 0.005966 0.384408 0.183142 0.158692 0.849123 0.300749 1.151384 0.140483 0.901022 0.397100 0.572663 0.334458 0.549263 0.112161 0.818907 0.101201 0.100000 0.100000 0.100000 0.105655 0.054419 0.100000 0.192317 0.299575 0.100000 0.364829 0.119001 0.348591 0.526368 0.264619 0.333689 0.447103 0.709307 \n",
    "    1.065906 0.100000 0.100000 0.100000 0.100000 0.475433 0.965144 0.965669 0.831711 0.100000 0.214345 1.247420 0.868751 0.790319 0.579308 0.351324 0.100000 0.100000 0.659217 0.630332 0.100000 0.100000 0.447301 1.438199 1.333385 0.100000 0.798105 0.100000 0.943303 0.027273 0.083881 0.604483 0.157030 0.197905 0.958297 1.372184 1.122930 \n",
    "    0.402125 0.342582 0.100000 0.523577 0.189882 0.283262 0.461351 0.100000 0.830919 0.100000 1.251473 0.252590 0.653480 0.183139 0.465052 0.537518 0.100000 0.773098 0.943565 0.143015 0.282882 0.100000 0.184242 0.335046 0.382780 0.076320 0.528994 0.036794 0.268950 0.010768 0.190597 0.175687 0.071637 0.100000 0.100000 0.240933 0.530501 \n",
    "    0.283069 0.685761 0.085950 0.101148 0.451844 0.587780 0.528450 0.100000 0.450506 0.100000 0.369422 0.100000 0.431462 0.100000 0.100000 1.270666 1.271223 1.013762 0.451800 0.100000 0.100000 0.100000 0.100000 0.514748 0.899151 0.198009 0.733316 0.100000 0.056750 0.483165 0.100000 0.314797 0.858601 0.188334 0.109919 0.100000 1.347325 \n",
    "    0.100000 0.100000 0.100000 0.100000 0.463117 1.300689 1.268158 0.328727 0.768743 0.881979 0.685140 0.415193 0.100000 1.145187 0.792196 0.100000 0.467790 0.818631 0.977748 0.811144 0.156274 0.095643 0.926747 1.654110 1.314019 0.100000 0.614464 0.325087 0.141961 0.094953 0.100000 0.100000 0.000613 1.049692 0.026766 0.100000 0.959405 \n",
    "    0.100000 0.492369 0.100000 0.248441 0.169909 0.560805 0.244093 0.156967 0.236739 0.609297 1.290406 0.606156 0.411470 0.769899 0.100000 0.443961 0.289807 0.341442 0.399150 0.100000 0.227023 0.100000 0.041254 1.020021 0.327186 0.100000 0.748342 0.423610 0.457473 0.100000 0.691022 0.100000 0.613031 0.619714 0.100000 0.281635 0.260174 \n",
    "    0.436333 0.642633 0.051075 0.749964 0.100000 0.299087 0.849088 0.938026 0.423404 0.182445 1.059520 0.100000 0.666932 0.752961 0.218387 0.362307 0.100000 0.461497 0.649591 0.500226 0.174386 0.152401 0.118339 0.571553 0.440500 0.228265 1.177162 0.100000 0.100000 0.875976 0.196459 0.100000 0.334072 0.359768 0.100000 0.226761 0.808430 \n",
    "    1.071027 0.100000 0.128019 0.100000 0.665422 0.823401 0.762405 0.855959 0.100000 0.224711 0.871897 0.181989 0.262065 1.178418 0.436375 0.037698 1.309908 0.393916 0.783464 0.312663 0.513756 0.943532 0.058844 0.758983 1.272479 0.049405 1.142029 0.247801 0.677035 0.023073 0.100000 1.043186 0.785654 1.014401 0.100000 1.201406 0.100000 \n",
    "    0.100000 0.277295 0.100000 0.354871 0.165165 0.353344 0.773199 0.505180 0.170796 0.705505 1.012005 0.100000 0.893118 0.238793 0.100000 0.012517 0.033618 0.360886 1.241041 0.021858 0.100000 0.389864 0.032311 0.480881 0.435830 0.426154 0.991971 0.593925 0.130469 0.210255 0.525162 0.187549 0.295723 0.100000 0.100000 0.100000 0.100000 \n",
    "    0.415755 0.422200 0.356851 0.220622 0.100000 0.100000 0.560276 0.083672 0.136295 0.027899 0.174859 0.177206 0.100000 0.124122 0.237650 0.009147 0.159341 0.661184 0.668758 0.100000 0.534783 0.282027 0.266042 0.690345 0.831951 0.100000 0.663226 0.100000 0.522760 0.359334 0.140553 0.182167 0.342812 0.804803 0.100000 0.768090 0.364154 \n",
    "    0.986747 0.097920 0.100000 0.399361 0.149589 0.471358 0.579629 0.246008 0.950071 0.518191 0.780711 0.383945 0.383532 0.636100 0.446225 0.134626 0.175217 0.466751 0.267180 0.099315 0.200185 0.394893 0.399592 0.752007 1.025858 0.345202 1.065698 0.100000 0.116381 0.117044 0.068059 0.526282 0.307963 0.421333 0.741523 0.181912 0.821711 \n",
    "]"
   ]
  },
  {
   "cell_type": "code",
   "execution_count": 5,
   "id": "cd41bbba-1f43-428b-aca9-aeff233028ae",
   "metadata": {},
   "outputs": [
    {
     "data": {
      "text/plain": [
       "A JuMP Model\n",
       "├ solver: GLPK\n",
       "├ objective_sense: FEASIBILITY_SENSE\n",
       "├ num_variables: 0\n",
       "├ num_constraints: 0\n",
       "└ Names registered in the model: none"
      ]
     },
     "execution_count": 5,
     "metadata": {},
     "output_type": "execute_result"
    }
   ],
   "source": [
    "model = Model(GLPK.Optimizer)"
   ]
  },
  {
   "cell_type": "code",
   "execution_count": 6,
   "id": "2e70eb49-6f72-4951-9051-ca5730acf3d7",
   "metadata": {},
   "outputs": [
    {
     "data": {
      "text/latex": [
       "$ T $"
      ],
      "text/plain": [
       "T"
      ]
     },
     "execution_count": 6,
     "metadata": {},
     "output_type": "execute_result"
    }
   ],
   "source": [
    "# Variables\n",
    "@variable(model, x[1:n, 1:m], Bin)  # Assignment of tasks to workers\n",
    "@variable(model, b[1:n, 1:m], Bin)  # Start of a block for a worker\n",
    "@variable(model, e[1:n, 1:m], Bin)  # End of a block for a worker\n",
    "@variable(model, T >= 0)  # Maximum workload"
   ]
  },
  {
   "cell_type": "code",
   "execution_count": 7,
   "id": "3d921dcd-2b9c-4484-95ea-16b3a2655cdb",
   "metadata": {},
   "outputs": [
    {
     "data": {
      "text/latex": [
       "$ T $"
      ],
      "text/plain": [
       "T"
      ]
     },
     "execution_count": 7,
     "metadata": {},
     "output_type": "execute_result"
    }
   ],
   "source": [
    "@objective(model, Min, T)"
   ]
  },
  {
   "cell_type": "code",
   "execution_count": 8,
   "id": "18084521-52c6-494f-84f5-c3b21eadb910",
   "metadata": {},
   "outputs": [],
   "source": [
    "for i in 1:n\n",
    "    @constraint(model, sum(x[i, j] for j in 1:m) == 1)\n",
    "end"
   ]
  },
  {
   "cell_type": "code",
   "execution_count": 9,
   "id": "e6b23ae0-798e-4fd4-b1a7-5ff6ce9802c9",
   "metadata": {},
   "outputs": [],
   "source": [
    "# Contiguity constraints: Each worker has exactly one contiguous block\n",
    "for j in 1:m\n",
    "    # Exactly one start and one end per worker\n",
    "    @constraint(model, sum(b[i, j] for i in 1:n) == 1)\n",
    "    @constraint(model, sum(e[i, j] for i in 1:n) == 1)\n",
    "    \n",
    "    # Start position definition\n",
    "    for i in 1:n\n",
    "        # Handle boundary cases (i=1 and i=num_operations)\n",
    "        prev_x = (i == 1) ? 0 : x[i-1, j]\n",
    "        next_x = (i == n) ? 0 : x[i+1, j]\n",
    "        \n",
    "        # d[i,j] = 1 if x[i,j] = 1 and x[i-1,j] = 0\n",
    "        @constraint(model, b[i, j] >= x[i, j] - prev_x)\n",
    "        @constraint(model, b[i, j] <= x[i, j])\n",
    "        @constraint(model, b[i, j] <= 1 - prev_x)\n",
    "        \n",
    "        # e[i,j] = 1 if x[i,j] = 1 and x[i+1,j] = 0\n",
    "        @constraint(model, e[i, j] >= x[i, j] - next_x)\n",
    "        @constraint(model, e[i, j] <= x[i, j])\n",
    "        @constraint(model, e[i, j] <= 1 - next_x)\n",
    "    end\n",
    "end"
   ]
  },
  {
   "cell_type": "code",
   "execution_count": 10,
   "id": "c3fd2faa-fe62-4f59-8405-1bca7fa3ae78",
   "metadata": {},
   "outputs": [],
   "source": [
    "# Workload constraints: T >= sum of production times for each worker\n",
    "for j in 1:m\n",
    "    @constraint(model, T >= sum(production_times[j, i] * x[i, j] for i in 1:n))\n",
    "end"
   ]
  },
  {
   "cell_type": "code",
   "execution_count": 11,
   "id": "5f1388ef-ab70-430b-b527-18c983c9a386",
   "metadata": {},
   "outputs": [
    {
     "ename": "LoadError",
     "evalue": "InterruptException:",
     "output_type": "error",
     "traceback": [
      "InterruptException:",
      "",
      "Stacktrace:",
      " [1] glp_intopt",
      "   @ ~/.julia/packages/GLPK/2y5V8/src/gen/libglpk_api.jl:342 [inlined]",
      " [2] _solve_mip_problem(model::GLPK.Optimizer)",
      "   @ GLPK ~/.julia/packages/GLPK/2y5V8/src/MOI_wrapper/MOI_wrapper.jl:1399",
      " [3] optimize!(model::GLPK.Optimizer)",
      "   @ GLPK ~/.julia/packages/GLPK/2y5V8/src/MOI_wrapper/MOI_wrapper.jl:1457",
      " [4] optimize!",
      "   @ ~/.julia/packages/MathOptInterface/ej37q/src/Bridges/bridge_optimizer.jl:367 [inlined]",
      " [5] optimize!",
      "   @ ~/.julia/packages/MathOptInterface/ej37q/src/MathOptInterface.jl:122 [inlined]",
      " [6] optimize!(m::MathOptInterface.Utilities.CachingOptimizer{MathOptInterface.Bridges.LazyBridgeOptimizer{GLPK.Optimizer}, MathOptInterface.Utilities.UniversalFallback{MathOptInterface.Utilities.Model{Float64}}})",
      "   @ MathOptInterface.Utilities ~/.julia/packages/MathOptInterface/ej37q/src/Utilities/cachingoptimizer.jl:370",
      " [7] optimize!(model::Model; ignore_optimize_hook::Bool, _differentiation_backend::MathOptInterface.Nonlinear.SparseReverseMode, kwargs::@Kwargs{})",
      "   @ JuMP ~/.julia/packages/JuMP/LKjRR/src/optimizer_interface.jl:609",
      " [8] optimize!(model::Model)",
      "   @ JuMP ~/.julia/packages/JuMP/LKjRR/src/optimizer_interface.jl:560"
     ]
    }
   ],
   "source": [
    "optimize!(model)"
   ]
  },
  {
   "cell_type": "code",
   "execution_count": 12,
   "id": "e49b2ada-915f-4c07-9ccb-8079058fff26",
   "metadata": {},
   "outputs": [
    {
     "name": "stderr",
     "output_type": "stream",
     "text": [
      "\u001b[33m\u001b[1m┌ \u001b[22m\u001b[39m\u001b[33m\u001b[1mWarning: \u001b[22m\u001b[39mThe model has been modified since the last call to `optimize!` (or `optimize!` has not been called yet). If you are iteratively querying solution information and modifying a model, query all the results first, then modify the model.\n",
      "\u001b[33m\u001b[1m└ \u001b[22m\u001b[39m\u001b[90m@ JuMP ~/.julia/packages/JuMP/LKjRR/src/optimizer_interface.jl:1211\u001b[39m\n"
     ]
    },
    {
     "ename": "LoadError",
     "evalue": "OptimizeNotCalled()",
     "output_type": "error",
     "traceback": [
      "OptimizeNotCalled()",
      "",
      "Stacktrace:",
      " [1] get(model::Model, attr::MathOptInterface.ObjectiveValue)",
      "   @ JuMP ~/.julia/packages/JuMP/LKjRR/src/optimizer_interface.jl:1217",
      " [2] objective_value(model::Model; result::Int64)",
      "   @ JuMP ~/.julia/packages/JuMP/LKjRR/src/objective.jl:122",
      " [3] objective_value(model::Model)",
      "   @ JuMP ~/.julia/packages/JuMP/LKjRR/src/objective.jl:118",
      " [4] top-level scope",
      "   @ In[12]:1"
     ]
    }
   ],
   "source": [
    "println(\"Maximum workload (T): \", objective_value(model))\n",
    "\n",
    "# Print assignments\n",
    "for j in 1:m\n",
    "    assigned_tasks = [i for i in 1:n if value(x[i, j]) > 0.5]\n",
    "    if !isempty(assigned_tasks)\n",
    "        println(\"Worker $j: Tasks \", assigned_tasks, \" | Workload: \", sum(production_times[j, i] for i in assigned_tasks))\n",
    "    end\n",
    "end"
   ]
  }
 ],
 "metadata": {
  "kernelspec": {
   "display_name": "Julia 1.11.5",
   "language": "julia",
   "name": "julia-1.11"
  },
  "language_info": {
   "file_extension": ".jl",
   "mimetype": "application/julia",
   "name": "julia",
   "version": "1.11.5"
  }
 },
 "nbformat": 4,
 "nbformat_minor": 5
}
