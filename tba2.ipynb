{
 "cells": [
  {
   "cell_type": "code",
   "execution_count": 1,
   "id": "86d4cc39-de15-44aa-a8e0-c16106c17766",
   "metadata": {},
   "outputs": [
    {
     "name": "stderr",
     "output_type": "stream",
     "text": [
      "\u001b[32m\u001b[1m   Resolving\u001b[22m\u001b[39m package versions...\n",
      "\u001b[32m\u001b[1m  No Changes\u001b[22m\u001b[39m to `~/.julia/environments/v1.11/Project.toml`\n",
      "\u001b[32m\u001b[1m  No Changes\u001b[22m\u001b[39m to `~/.julia/environments/v1.11/Manifest.toml`\n",
      "\u001b[32m\u001b[1m   Resolving\u001b[22m\u001b[39m package versions...\n",
      "\u001b[32m\u001b[1m  No Changes\u001b[22m\u001b[39m to `~/.julia/environments/v1.11/Project.toml`\n",
      "\u001b[32m\u001b[1m  No Changes\u001b[22m\u001b[39m to `~/.julia/environments/v1.11/Manifest.toml`\n",
      "\u001b[32m\u001b[1m   Resolving\u001b[22m\u001b[39m package versions...\n",
      "\u001b[32m\u001b[1m  No Changes\u001b[22m\u001b[39m to `~/.julia/environments/v1.11/Project.toml`\n",
      "\u001b[32m\u001b[1m  No Changes\u001b[22m\u001b[39m to `~/.julia/environments/v1.11/Manifest.toml`\n"
     ]
    }
   ],
   "source": [
    "import Pkg; Pkg.add(\"JuMP\");  Pkg.add(\"GLPK\");  Pkg.add(\"DelimitedFiles\"); "
   ]
  },
  {
   "cell_type": "code",
   "execution_count": 2,
   "id": "2167a91f-c3a4-4e32-9623-643d3df85afc",
   "metadata": {},
   "outputs": [],
   "source": [
    "using JuMP          # Modeling language for optimization\n",
    "using GLPK          # Open-source solver for linear programming"
   ]
  },
  {
   "cell_type": "code",
   "execution_count": 3,
   "id": "3663cb1c-dfba-4dc2-80e5-403829b0026c",
   "metadata": {},
   "outputs": [
    {
     "data": {
      "text/plain": [
       "15"
      ]
     },
     "execution_count": 3,
     "metadata": {},
     "output_type": "execute_result"
    }
   ],
   "source": [
    "# Dados do problema\n",
    "n = 32  # número de operações\n",
    "m = 15  # número de trabalhadores"
   ]
  },
  {
   "cell_type": "code",
   "execution_count": 4,
   "id": "7b5723d2-4585-4f74-9c92-ee662f6b3737",
   "metadata": {},
   "outputs": [
    {
     "data": {
      "text/plain": [
       "15×32 Matrix{Float64}:\n",
       " 0.890661  0.1       0.177132  0.1       …  0.385133  0.349847  0.1\n",
       " 0.1       0.20173   1.32891   0.1          0.1       0.1       0.374428\n",
       " 0.382417  0.1       1.72666   0.358937     0.56313   0.708329  0.1\n",
       " 0.258192  0.655838  0.87257   0.289637     0.1       0.615357  0.732453\n",
       " 0.495037  0.1       0.758145  0.280339     0.1       0.477724  0.932241\n",
       " 0.321022  0.1       1.71145   0.1       …  0.126919  0.110869  0.1\n",
       " 0.007691  1.04408   0.807365  0.043492     1.05756   0.1       0.1\n",
       " 0.695813  0.1       0.190341  0.823744     0.900057  1.05472   1.26002\n",
       " 0.253746  0.116859  0.48832   0.848778     0.1       0.558718  1.11954\n",
       " 0.656893  0.416342  1.65089   0.984406     0.1       0.1       0.728237\n",
       " 0.499228  0.904172  1.1851    0.534964  …  0.113164  0.837569  0.208604\n",
       " 0.142952  0.686266  0.762997  0.588483     1.59959   1.01429   1.44387\n",
       " 1.43735   0.1       1.65006   0.043201     0.231853  0.682592  0.768844\n",
       " 0.649845  0.1       0.1       0.608595     0.250508  1.36319   0.224355\n",
       " 0.963625  0.137698  0.567678  0.660414     0.1       0.76157   0.171585"
      ]
     },
     "execution_count": 4,
     "metadata": {},
     "output_type": "execute_result"
    }
   ],
   "source": [
    "production_times = [\n",
    "    0.890661 0.100000 0.177132 0.100000 0.529553 0.390666 0.100000 0.100000 0.821462 0.785439 1.617629 0.100000 0.852795 0.560338 0.060270 0.261902 1.130127 0.909629 0.422074 0.055287 1.057074 0.313438 0.100000 0.165839 0.232135 0.425175 0.627948 0.100000 0.100000 0.385133 0.349847 0.100000 \n",
    "    0.100000 0.201730 1.328912 0.100000 0.100000 0.978650 0.780160 0.562959 0.583223 1.397648 0.100000 0.412369 0.486314 0.397564 0.100000 0.052441 0.957283 0.386480 0.474806 0.335646 0.036059 0.020055 0.947573 0.081915 0.659697 0.100000 1.039202 0.278111 0.377961 0.100000 0.100000 0.374428 \n",
    "    0.382417 0.100000 1.726658 0.358937 0.100000 0.712248 0.361727 0.100000 0.561401 0.986316 1.727977 0.100000 0.579869 1.200957 0.196316 0.725943 0.100000 1.241777 0.098095 1.112497 0.100000 0.371163 1.290880 0.582376 0.343506 0.855024 0.275685 1.560870 0.100000 0.563130 0.708329 0.100000 \n",
    "    0.258192 0.655838 0.872570 0.289637 0.493474 0.701791 1.384474 0.280318 0.192337 0.706908 0.873142 1.147647 0.455163 0.408700 1.571699 0.492463 0.100000 1.816261 0.100000 0.030963 0.136302 0.861470 0.687186 0.336406 0.590922 0.111183 0.122248 0.373282 0.332134 0.100000 0.615357 0.732453 \n",
    "    0.495037 0.100000 0.758145 0.280339 0.100000 0.633850 0.100000 0.248400 0.303857 0.552071 0.410473 1.162012 0.100000 0.821449 0.198540 1.012698 0.100000 0.606464 0.100000 0.027242 0.100000 0.276056 0.310901 0.449378 1.293435 0.850291 0.429150 0.100000 0.100000 0.100000 0.477724 0.932241 \n",
    "    0.321022 0.100000 1.711453 0.100000 0.100000 1.158414 0.186435 0.781424 0.692581 0.423235 0.771024 0.384682 0.100000 0.968224 0.100000 1.888774 0.659884 0.882312 0.884424 0.369410 0.583516 0.092775 0.140019 1.014709 0.100000 0.100000 0.423446 0.910685 0.013962 0.126919 0.110869 0.100000 \n",
    "    0.007691 1.044083 0.807365 0.043492 0.100000 1.616439 0.501842 0.100000 0.305458 0.352975 0.299552 0.100000 0.321675 0.674008 1.185942 0.100000 0.186941 0.830165 0.100000 1.000456 0.100000 0.027622 0.692752 0.245957 0.258509 0.501406 0.100000 1.107569 0.086911 1.057563 0.100000 0.100000 \n",
    "    0.695813 0.100000 0.190341 0.823744 0.095337 1.093666 0.320435 0.977830 0.440740 0.708548 0.402224 0.259841 0.966075 0.100000 0.045052 0.316506 0.376642 0.744349 1.140295 0.681118 1.691094 0.100000 0.554755 0.647983 0.817335 0.100000 0.880458 0.115274 0.100000 0.900057 1.054724 1.260020 \n",
    "    0.253746 0.116859 0.488320 0.848778 0.100000 0.322532 0.100000 0.100000 0.100000 0.843201 0.388036 0.100000 0.611051 1.040706 0.750740 0.494748 0.100000 0.794476 0.100000 0.795443 0.431126 0.100000 1.435126 0.516085 0.747728 1.066573 0.772020 0.795012 0.306435 0.100000 0.558718 1.119541 \n",
    "    0.656893 0.416342 1.650894 0.984406 0.742756 0.169307 0.727764 1.083716 0.100000 0.687584 0.737152 0.100000 0.631042 0.549619 0.472649 0.781801 0.897168 1.518833 1.032926 0.100000 0.323902 0.459780 0.660436 0.695000 0.012182 0.297469 0.070472 0.331113 0.100000 0.100000 0.100000 0.728237 \n",
    "    0.499228 0.904172 1.185095 0.534964 0.100000 0.406320 0.585389 0.100000 0.100000 0.984580 1.247980 0.583254 0.104195 1.159520 0.748554 0.531281 0.100000 0.906721 0.695308 0.773314 1.123692 0.775907 0.167090 1.083280 0.472975 0.100000 0.100000 1.263128 0.587620 0.113164 0.837569 0.208604 \n",
    "    0.142952 0.686266 0.762997 0.588483 0.100000 0.404907 0.100000 1.377906 0.525836 0.560117 0.133794 0.269903 0.731784 1.547233 1.441720 0.824900 0.750518 0.935396 0.344110 0.249128 0.100000 0.170307 0.908666 1.051160 0.857423 0.100000 0.514229 0.741925 0.100000 1.599592 1.014286 1.443868 \n",
    "    1.437351 0.100000 1.650064 0.043201 0.216370 0.994453 1.308924 0.196658 0.925381 0.649797 0.625702 0.100000 0.794193 0.630061 0.507755 1.234356 0.705815 1.411497 0.990627 1.066452 0.908234 0.100000 0.985587 0.008307 0.385334 0.793140 0.906863 0.277619 0.025984 0.231853 0.682592 0.768844 \n",
    "    0.649845 0.100000 0.100000 0.608595 0.445009 0.137827 1.080639 0.689533 0.168804 0.841617 0.596912 0.641956 0.567373 0.881226 0.326193 0.708751 0.711494 0.441111 0.245572 0.340515 0.854952 0.329267 0.100000 0.961670 1.254379 1.216361 1.230060 0.311179 0.184767 0.250508 1.363192 0.224355 \n",
    "    0.963625 0.137698 0.567678 0.660414 0.143778 0.441318 0.100000 0.697878 0.275290 0.066416 1.165624 0.344407 0.100000 0.797215 0.603002 1.956298 0.100000 0.629862 0.217097 0.201358 0.765382 0.100000 0.970146 0.870645 0.803379 0.633148 0.875797 0.753701 0.232835 0.100000 0.761570 0.171585 \n",
    "]"
   ]
  },
  {
   "cell_type": "code",
   "execution_count": 5,
   "id": "cd41bbba-1f43-428b-aca9-aeff233028ae",
   "metadata": {},
   "outputs": [
    {
     "data": {
      "text/plain": [
       "A JuMP Model\n",
       "├ solver: GLPK\n",
       "├ objective_sense: FEASIBILITY_SENSE\n",
       "├ num_variables: 0\n",
       "├ num_constraints: 0\n",
       "└ Names registered in the model: none"
      ]
     },
     "execution_count": 5,
     "metadata": {},
     "output_type": "execute_result"
    }
   ],
   "source": [
    "model = Model(GLPK.Optimizer)"
   ]
  },
  {
   "cell_type": "code",
   "execution_count": 6,
   "id": "2e70eb49-6f72-4951-9051-ca5730acf3d7",
   "metadata": {},
   "outputs": [
    {
     "data": {
      "text/latex": [
       "$ T $"
      ],
      "text/plain": [
       "T"
      ]
     },
     "execution_count": 6,
     "metadata": {},
     "output_type": "execute_result"
    }
   ],
   "source": [
    "# Variables\n",
    "@variable(model, x[1:n, 1:m], Bin)  # Assignment of tasks to workers\n",
    "@variable(model, b[1:n, 1:m], Bin)  # Start of a block for a worker\n",
    "@variable(model, e[1:n, 1:m], Bin)  # End of a block for a worker\n",
    "@variable(model, T >= 0)  # Maximum workload"
   ]
  },
  {
   "cell_type": "code",
   "execution_count": 7,
   "id": "3d921dcd-2b9c-4484-95ea-16b3a2655cdb",
   "metadata": {},
   "outputs": [
    {
     "data": {
      "text/latex": [
       "$ T $"
      ],
      "text/plain": [
       "T"
      ]
     },
     "execution_count": 7,
     "metadata": {},
     "output_type": "execute_result"
    }
   ],
   "source": [
    "@objective(model, Min, T)"
   ]
  },
  {
   "cell_type": "code",
   "execution_count": 8,
   "id": "18084521-52c6-494f-84f5-c3b21eadb910",
   "metadata": {},
   "outputs": [],
   "source": [
    "for i in 1:n\n",
    "    @constraint(model, sum(x[i, j] for j in 1:m) == 1)\n",
    "end"
   ]
  },
  {
   "cell_type": "code",
   "execution_count": 9,
   "id": "e6b23ae0-798e-4fd4-b1a7-5ff6ce9802c9",
   "metadata": {},
   "outputs": [],
   "source": [
    "# Contiguity constraints: Each worker has exactly one contiguous block\n",
    "for j in 1:m\n",
    "    # Exactly one start and one end per worker\n",
    "    @constraint(model, sum(b[i, j] for i in 1:n) == 1)\n",
    "    @constraint(model, sum(e[i, j] for i in 1:n) == 1)\n",
    "    \n",
    "    # Start position definition\n",
    "    for i in 1:n\n",
    "        # Handle boundary cases (i=1 and i=num_operations)\n",
    "        prev_x = (i == 1) ? 0 : x[i-1, j]\n",
    "        next_x = (i == n) ? 0 : x[i+1, j]\n",
    "        \n",
    "        # d[i,j] = 1 if x[i,j] = 1 and x[i-1,j] = 0\n",
    "        @constraint(model, b[i, j] >= x[i, j] - prev_x)\n",
    "        @constraint(model, b[i, j] <= x[i, j])\n",
    "        @constraint(model, b[i, j] <= 1 - prev_x)\n",
    "        \n",
    "        # e[i,j] = 1 if x[i,j] = 1 and x[i+1,j] = 0\n",
    "        @constraint(model, e[i, j] >= x[i, j] - next_x)\n",
    "        @constraint(model, e[i, j] <= x[i, j])\n",
    "        @constraint(model, e[i, j] <= 1 - next_x)\n",
    "    end\n",
    "end"
   ]
  },
  {
   "cell_type": "code",
   "execution_count": 10,
   "id": "01fa3656-a30a-4ed9-afbe-d98738b5c78b",
   "metadata": {},
   "outputs": [],
   "source": [
    "#for j in 1:m\n",
    "#    for i in 1:n\n",
    "#        @constraint(model, b[i, j] + e[i, j] <= 1)\n",
    "#    end\n",
    "#end"
   ]
  },
  {
   "cell_type": "code",
   "execution_count": 11,
   "id": "c3fd2faa-fe62-4f59-8405-1bca7fa3ae78",
   "metadata": {},
   "outputs": [],
   "source": [
    "# Workload constraints: T >= sum of production times for each worker\n",
    "for j in 1:m\n",
    "    @constraint(model, T >= sum(production_times[j, i] * x[i, j] for i in 1:n))\n",
    "end"
   ]
  },
  {
   "cell_type": "code",
   "execution_count": 12,
   "id": "5f1388ef-ab70-430b-b527-18c983c9a386",
   "metadata": {},
   "outputs": [
    {
     "ename": "LoadError",
     "evalue": "InterruptException:",
     "output_type": "error",
     "traceback": [
      "InterruptException:",
      "",
      "Stacktrace:",
      " [1] glp_intopt",
      "   @ ~/.julia/packages/GLPK/2y5V8/src/gen/libglpk_api.jl:342 [inlined]",
      " [2] _solve_mip_problem(model::GLPK.Optimizer)",
      "   @ GLPK ~/.julia/packages/GLPK/2y5V8/src/MOI_wrapper/MOI_wrapper.jl:1399",
      " [3] optimize!(model::GLPK.Optimizer)",
      "   @ GLPK ~/.julia/packages/GLPK/2y5V8/src/MOI_wrapper/MOI_wrapper.jl:1457",
      " [4] optimize!",
      "   @ ~/.julia/packages/MathOptInterface/ej37q/src/Bridges/bridge_optimizer.jl:367 [inlined]",
      " [5] optimize!",
      "   @ ~/.julia/packages/MathOptInterface/ej37q/src/MathOptInterface.jl:122 [inlined]",
      " [6] optimize!(m::MathOptInterface.Utilities.CachingOptimizer{MathOptInterface.Bridges.LazyBridgeOptimizer{GLPK.Optimizer}, MathOptInterface.Utilities.UniversalFallback{MathOptInterface.Utilities.Model{Float64}}})",
      "   @ MathOptInterface.Utilities ~/.julia/packages/MathOptInterface/ej37q/src/Utilities/cachingoptimizer.jl:370",
      " [7] optimize!(model::Model; ignore_optimize_hook::Bool, _differentiation_backend::MathOptInterface.Nonlinear.SparseReverseMode, kwargs::@Kwargs{})",
      "   @ JuMP ~/.julia/packages/JuMP/LKjRR/src/optimizer_interface.jl:609",
      " [8] optimize!(model::Model)",
      "   @ JuMP ~/.julia/packages/JuMP/LKjRR/src/optimizer_interface.jl:560"
     ]
    }
   ],
   "source": [
    "optimize!(model)"
   ]
  },
  {
   "cell_type": "code",
   "execution_count": 13,
   "id": "e49b2ada-915f-4c07-9ccb-8079058fff26",
   "metadata": {},
   "outputs": [
    {
     "name": "stderr",
     "output_type": "stream",
     "text": [
      "\u001b[33m\u001b[1m┌ \u001b[22m\u001b[39m\u001b[33m\u001b[1mWarning: \u001b[22m\u001b[39mThe model has been modified since the last call to `optimize!` (or `optimize!` has not been called yet). If you are iteratively querying solution information and modifying a model, query all the results first, then modify the model.\n",
      "\u001b[33m\u001b[1m└ \u001b[22m\u001b[39m\u001b[90m@ JuMP ~/.julia/packages/JuMP/LKjRR/src/optimizer_interface.jl:1211\u001b[39m\n"
     ]
    },
    {
     "ename": "LoadError",
     "evalue": "OptimizeNotCalled()",
     "output_type": "error",
     "traceback": [
      "OptimizeNotCalled()",
      "",
      "Stacktrace:",
      " [1] get(model::Model, attr::MathOptInterface.ObjectiveValue)",
      "   @ JuMP ~/.julia/packages/JuMP/LKjRR/src/optimizer_interface.jl:1217",
      " [2] objective_value(model::Model; result::Int64)",
      "   @ JuMP ~/.julia/packages/JuMP/LKjRR/src/objective.jl:122",
      " [3] objective_value(model::Model)",
      "   @ JuMP ~/.julia/packages/JuMP/LKjRR/src/objective.jl:118",
      " [4] top-level scope",
      "   @ In[13]:1"
     ]
    }
   ],
   "source": [
    "println(\"Maximum workload (T): \", objective_value(model))\n",
    "\n",
    "# Print assignments\n",
    "for j in 1:m\n",
    "    assigned_tasks = [i for i in 1:n if value(x[i, j]) > 0.5]\n",
    "    if !isempty(assigned_tasks)\n",
    "        println(\"Worker $j: Tasks \", assigned_tasks, \" | Workload: \", sum(production_times[j, i] for i in assigned_tasks))\n",
    "    end\n",
    "end"
   ]
  }
 ],
 "metadata": {
  "kernelspec": {
   "display_name": "Julia 1.11.5",
   "language": "julia",
   "name": "julia-1.11"
  },
  "language_info": {
   "file_extension": ".jl",
   "mimetype": "application/julia",
   "name": "julia",
   "version": "1.11.5"
  }
 },
 "nbformat": 4,
 "nbformat_minor": 5
}
