{
 "cells": [
  {
   "cell_type": "code",
   "execution_count": 1,
   "id": "86d4cc39-de15-44aa-a8e0-c16106c17766",
   "metadata": {},
   "outputs": [
    {
     "name": "stderr",
     "output_type": "stream",
     "text": [
      "\u001b[32m\u001b[1m   Resolving\u001b[22m\u001b[39m package versions...\n",
      "\u001b[32m\u001b[1m  No Changes\u001b[22m\u001b[39m to `~/.julia/environments/v1.11/Project.toml`\n",
      "\u001b[32m\u001b[1m  No Changes\u001b[22m\u001b[39m to `~/.julia/environments/v1.11/Manifest.toml`\n",
      "\u001b[32m\u001b[1m   Resolving\u001b[22m\u001b[39m package versions...\n",
      "\u001b[32m\u001b[1m  No Changes\u001b[22m\u001b[39m to `~/.julia/environments/v1.11/Project.toml`\n",
      "\u001b[32m\u001b[1m  No Changes\u001b[22m\u001b[39m to `~/.julia/environments/v1.11/Manifest.toml`\n",
      "\u001b[32m\u001b[1m   Resolving\u001b[22m\u001b[39m package versions...\n",
      "\u001b[32m\u001b[1m  No Changes\u001b[22m\u001b[39m to `~/.julia/environments/v1.11/Project.toml`\n",
      "\u001b[32m\u001b[1m  No Changes\u001b[22m\u001b[39m to `~/.julia/environments/v1.11/Manifest.toml`\n"
     ]
    }
   ],
   "source": [
    "import Pkg; Pkg.add(\"JuMP\");  Pkg.add(\"GLPK\");  Pkg.add(\"DelimitedFiles\"); "
   ]
  },
  {
   "cell_type": "code",
   "execution_count": 2,
   "id": "2167a91f-c3a4-4e32-9623-643d3df85afc",
   "metadata": {},
   "outputs": [],
   "source": [
    "using JuMP          # Modeling language for optimization\n",
    "using GLPK          # Open-source solver for linear programming"
   ]
  },
  {
   "cell_type": "code",
   "execution_count": 3,
   "id": "3663cb1c-dfba-4dc2-80e5-403829b0026c",
   "metadata": {},
   "outputs": [
    {
     "data": {
      "text/plain": [
       "10"
      ]
     },
     "execution_count": 3,
     "metadata": {},
     "output_type": "execute_result"
    }
   ],
   "source": [
    "# Dados do problema\n",
    "n = 22  # número de operações\n",
    "m = 10  # número de trabalhadores"
   ]
  },
  {
   "cell_type": "code",
   "execution_count": 4,
   "id": "7b5723d2-4585-4f74-9c92-ee662f6b3737",
   "metadata": {},
   "outputs": [
    {
     "data": {
      "text/plain": [
       "10×22 Matrix{Float64}:\n",
       " 0.287857  0.830655  0.1       0.248239  …  0.034181  0.1       0.865475\n",
       " 0.214674  0.677245  0.21867   0.33446      0.57756   0.149161  1.52401\n",
       " 0.563387  0.373777  1.17724   0.407656     0.616562  0.980137  1.44317\n",
       " 0.701306  0.372571  0.286429  0.776129     0.441521  0.408943  1.0731\n",
       " 0.72888   0.339696  0.300568  0.461422     0.106526  0.024241  1.45122\n",
       " 1.03256   0.46103   0.097871  0.139404  …  0.225037  0.107761  0.707324\n",
       " 0.237756  0.346072  0.060057  0.195576     0.509546  0.261491  1.4241\n",
       " 0.357533  0.330183  0.18      0.126193     0.1       0.060807  0.9133\n",
       " 0.444417  0.1       0.272252  0.522473     0.062596  0.506984  0.071084\n",
       " 0.077435  0.1       0.423076  0.429905     1.48127   0.1       0.111411"
      ]
     },
     "execution_count": 4,
     "metadata": {},
     "output_type": "execute_result"
    }
   ],
   "source": [
    "production_times = [\n",
    "    0.287857 0.830655 0.100000 0.248239 0.727981 0.655542 0.123721 1.341410 0.607163 0.650595 0.952860 0.516485 1.108985 0.390380 0.468933 1.001196 0.867240 0.500933 0.103134 0.034181 0.100000 0.865475 \n",
    "    0.214674 0.677245 0.218670 0.334460 0.377926 0.098116 0.116527 0.373527 0.766943 0.487008 0.616509 0.981799 0.689655 1.183141 0.577251 0.656511 0.579161 0.253087 0.702422 0.577560 0.149161 1.524006 \n",
    "    0.563387 0.373777 1.177244 0.407656 0.714569 0.766731 0.596989 1.386659 0.100000 0.364007 0.576406 0.248855 0.921155 0.100000 0.540836 0.496036 0.292919 0.890136 0.428335 0.616562 0.980137 1.443171 \n",
    "    0.701306 0.372571 0.286429 0.776129 0.151218 0.430800 0.441205 0.592415 0.682784 0.963321 0.497589 0.215186 1.343249 0.560373 0.118498 0.416314 0.682767 1.117920 1.010403 0.441521 0.408943 1.073101 \n",
    "    0.728880 0.339696 0.300568 0.461422 0.403869 0.577566 0.100000 0.290065 0.181337 0.100000 0.108598 0.100000 1.355450 0.952505 0.335884 0.100000 0.100000 0.057663 0.035723 0.106526 0.024241 1.451221 \n",
    "    1.032563 0.461030 0.097871 0.139404 0.217762 0.172444 0.710332 0.921559 0.588515 0.860334 0.940454 0.519992 0.534624 0.973526 0.355370 0.321430 0.245714 0.752854 1.399322 0.225037 0.107761 0.707324 \n",
    "    0.237756 0.346072 0.060057 0.195576 0.597975 0.487688 0.100000 0.235052 0.513761 0.321723 0.809187 0.463609 0.585087 0.310646 0.864026 0.737609 0.688433 0.669295 0.414836 0.509546 0.261491 1.424095 \n",
    "    0.357533 0.330183 0.180000 0.126193 0.039703 0.100000 0.133739 0.460826 0.559455 0.478390 0.527090 0.100000 0.675302 0.638178 0.100000 0.254398 0.347360 0.415945 0.949802 0.100000 0.060807 0.913300 \n",
    "    0.444417 0.100000 0.272252 0.522473 0.289680 0.365973 0.688991 0.691261 0.401780 0.407980 1.565759 0.100000 0.983368 0.870684 0.330318 0.346789 0.793784 0.720926 1.155663 0.062596 0.506984 0.071084 \n",
    "    0.077435 0.100000 0.423076 0.429905 0.100000 0.784920 0.100000 0.632330 0.100000 0.645691 1.318457 0.215414 0.151356 1.517339 0.100000 0.661387 0.053080 0.522108 0.100000 1.481272 0.100000 0.111411 \n",
    "]"
   ]
  },
  {
   "cell_type": "code",
   "execution_count": 5,
   "id": "cd41bbba-1f43-428b-aca9-aeff233028ae",
   "metadata": {},
   "outputs": [
    {
     "data": {
      "text/plain": [
       "A JuMP Model\n",
       "├ solver: GLPK\n",
       "├ objective_sense: FEASIBILITY_SENSE\n",
       "├ num_variables: 0\n",
       "├ num_constraints: 0\n",
       "└ Names registered in the model: none"
      ]
     },
     "execution_count": 5,
     "metadata": {},
     "output_type": "execute_result"
    }
   ],
   "source": [
    "model = Model(GLPK.Optimizer)"
   ]
  },
  {
   "cell_type": "code",
   "execution_count": 6,
   "id": "2e70eb49-6f72-4951-9051-ca5730acf3d7",
   "metadata": {},
   "outputs": [
    {
     "data": {
      "text/latex": [
       "$ T $"
      ],
      "text/plain": [
       "T"
      ]
     },
     "execution_count": 6,
     "metadata": {},
     "output_type": "execute_result"
    }
   ],
   "source": [
    "# Variables\n",
    "@variable(model, x[1:n, 1:m], Bin)  # Assignment of tasks to workers\n",
    "@variable(model, b[1:n, 1:m], Bin)  # Start of a block for a worker\n",
    "@variable(model, e[1:n, 1:m], Bin)  # End of a block for a worker\n",
    "@variable(model, T >= 0)  # Maximum workload"
   ]
  },
  {
   "cell_type": "code",
   "execution_count": 7,
   "id": "3d921dcd-2b9c-4484-95ea-16b3a2655cdb",
   "metadata": {},
   "outputs": [
    {
     "data": {
      "text/latex": [
       "$ T $"
      ],
      "text/plain": [
       "T"
      ]
     },
     "execution_count": 7,
     "metadata": {},
     "output_type": "execute_result"
    }
   ],
   "source": [
    "@objective(model, Min, T)"
   ]
  },
  {
   "cell_type": "code",
   "execution_count": 8,
   "id": "18084521-52c6-494f-84f5-c3b21eadb910",
   "metadata": {},
   "outputs": [],
   "source": [
    "for i in 1:n\n",
    "    @constraint(model, sum(x[i, j] for j in 1:m) == 1)\n",
    "end"
   ]
  },
  {
   "cell_type": "code",
   "execution_count": 9,
   "id": "e6b23ae0-798e-4fd4-b1a7-5ff6ce9802c9",
   "metadata": {},
   "outputs": [],
   "source": [
    "# Contiguity constraints: Each worker has exactly one contiguous block\n",
    "for j in 1:m\n",
    "    # Exactly one start and one end per worker\n",
    "    @constraint(model, sum(b[i, j] for i in 1:n) == 1)\n",
    "    @constraint(model, sum(e[i, j] for i in 1:n) == 1)\n",
    "    \n",
    "    # Start position definition\n",
    "    for i in 1:n\n",
    "        # Handle boundary cases (i=1 and i=num_operations)\n",
    "        prev_x = (i == 1) ? 0 : x[i-1, j]\n",
    "        next_x = (i == n) ? 0 : x[i+1, j]\n",
    "        \n",
    "        # d[i,j] = 1 if x[i,j] = 1 and x[i-1,j] = 0\n",
    "        @constraint(model, b[i, j] >= x[i, j] - prev_x)\n",
    "        @constraint(model, b[i, j] <= x[i, j])\n",
    "        @constraint(model, b[i, j] <= 1 - prev_x)\n",
    "        \n",
    "        # e[i,j] = 1 if x[i,j] = 1 and x[i+1,j] = 0\n",
    "        @constraint(model, e[i, j] >= x[i, j] - next_x)\n",
    "        @constraint(model, e[i, j] <= x[i, j])\n",
    "        @constraint(model, e[i, j] <= 1 - next_x)\n",
    "    end\n",
    "end"
   ]
  },
  {
   "cell_type": "code",
   "execution_count": 10,
   "id": "da8cf3aa-45e5-47ad-aa4b-ae58c40c7288",
   "metadata": {},
   "outputs": [],
   "source": [
    "#for j in 1:m\n",
    "#    for i in 1:n\n",
    "#        @constraint(model, b[i, j] + e[i, j] <= 1)\n",
    "#    end\n",
    "#end"
   ]
  },
  {
   "cell_type": "code",
   "execution_count": 11,
   "id": "c3fd2faa-fe62-4f59-8405-1bca7fa3ae78",
   "metadata": {},
   "outputs": [],
   "source": [
    "# Workload constraints: T >= sum of production times for each worker\n",
    "for j in 1:m\n",
    "    @constraint(model, T >= sum(production_times[j, i] * x[i, j] for i in 1:n))\n",
    "end"
   ]
  },
  {
   "cell_type": "code",
   "execution_count": 12,
   "id": "5f1388ef-ab70-430b-b527-18c983c9a386",
   "metadata": {},
   "outputs": [],
   "source": [
    "optimize!(model)"
   ]
  },
  {
   "cell_type": "code",
   "execution_count": 13,
   "id": "e49b2ada-915f-4c07-9ccb-8079058fff26",
   "metadata": {},
   "outputs": [
    {
     "name": "stdout",
     "output_type": "stream",
     "text": [
      "Maximum workload (T): 0.583828\n",
      "Worker 1: Tasks [14] | Workload: 0.39038\n",
      "Worker 2: Tasks [7, 8] | Workload: 0.490054\n",
      "Worker 3: Tasks [9, 10] | Workload: 0.46400700000000006\n",
      "Worker 4: Tasks [11] | Workload: 0.497589\n",
      "Worker 5: Tasks [16, 17, 18, 19, 20, 21] | Workload: 0.42415300000000006\n",
      "Worker 6: Tasks [15] | Workload: 0.35537\n",
      "Worker 7: Tasks [1, 2] | Workload: 0.583828\n",
      "Worker 8: Tasks [3, 4, 5, 6] | Workload: 0.44589599999999996\n",
      "Worker 9: Tasks [22] | Workload: 0.071084\n",
      "Worker 10: Tasks [12, 13] | Workload: 0.36677\n"
     ]
    }
   ],
   "source": [
    "println(\"Maximum workload (T): \", objective_value(model))\n",
    "\n",
    "# Print assignments\n",
    "for j in 1:m\n",
    "    assigned_tasks = [i for i in 1:n if value(x[i, j]) > 0.5]\n",
    "    if !isempty(assigned_tasks)\n",
    "        println(\"Worker $j: Tasks \", assigned_tasks, \" | Workload: \", sum(production_times[j, i] for i in assigned_tasks))\n",
    "    end\n",
    "end"
   ]
  }
 ],
 "metadata": {
  "kernelspec": {
   "display_name": "Julia 1.11.5",
   "language": "julia",
   "name": "julia-1.11"
  },
  "language_info": {
   "file_extension": ".jl",
   "mimetype": "application/julia",
   "name": "julia",
   "version": "1.11.5"
  }
 },
 "nbformat": 4,
 "nbformat_minor": 5
}
