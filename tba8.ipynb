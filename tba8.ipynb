{
 "cells": [
  {
   "cell_type": "code",
   "execution_count": 1,
   "id": "86d4cc39-de15-44aa-a8e0-c16106c17766",
   "metadata": {},
   "outputs": [
    {
     "name": "stderr",
     "output_type": "stream",
     "text": [
      "\u001b[32m\u001b[1m   Resolving\u001b[22m\u001b[39m package versions...\n",
      "\u001b[32m\u001b[1m  No Changes\u001b[22m\u001b[39m to `~/.julia/environments/v1.11/Project.toml`\n",
      "\u001b[32m\u001b[1m  No Changes\u001b[22m\u001b[39m to `~/.julia/environments/v1.11/Manifest.toml`\n",
      "\u001b[32m\u001b[1m   Resolving\u001b[22m\u001b[39m package versions...\n",
      "\u001b[32m\u001b[1m  No Changes\u001b[22m\u001b[39m to `~/.julia/environments/v1.11/Project.toml`\n",
      "\u001b[32m\u001b[1m  No Changes\u001b[22m\u001b[39m to `~/.julia/environments/v1.11/Manifest.toml`\n",
      "\u001b[32m\u001b[1m   Resolving\u001b[22m\u001b[39m package versions...\n",
      "\u001b[32m\u001b[1m  No Changes\u001b[22m\u001b[39m to `~/.julia/environments/v1.11/Project.toml`\n",
      "\u001b[32m\u001b[1m  No Changes\u001b[22m\u001b[39m to `~/.julia/environments/v1.11/Manifest.toml`\n"
     ]
    }
   ],
   "source": [
    "import Pkg; Pkg.add(\"JuMP\");  Pkg.add(\"GLPK\");  Pkg.add(\"DelimitedFiles\"); "
   ]
  },
  {
   "cell_type": "code",
   "execution_count": 2,
   "id": "2167a91f-c3a4-4e32-9623-643d3df85afc",
   "metadata": {},
   "outputs": [],
   "source": [
    "using JuMP          # Modeling language for optimization\n",
    "using GLPK          # Open-source solver for linear programming"
   ]
  },
  {
   "cell_type": "code",
   "execution_count": 3,
   "id": "3663cb1c-dfba-4dc2-80e5-403829b0026c",
   "metadata": {},
   "outputs": [
    {
     "data": {
      "text/plain": [
       "11"
      ]
     },
     "execution_count": 3,
     "metadata": {},
     "output_type": "execute_result"
    }
   ],
   "source": [
    "# Dados do problema\n",
    "n = 27  # número de operações\n",
    "m = 11  # número de trabalhadores"
   ]
  },
  {
   "cell_type": "code",
   "execution_count": 4,
   "id": "7b5723d2-4585-4f74-9c92-ee662f6b3737",
   "metadata": {},
   "outputs": [
    {
     "data": {
      "text/plain": [
       "11×27 Matrix{Float64}:\n",
       " 1.31396   0.597045  1.00916   0.612462  …  0.180385  0.944709  0.747208\n",
       " 1.12538   0.54977   0.746493  0.337872     0.622943  0.873428  0.344741\n",
       " 0.974094  0.518205  0.773904  0.27957      0.836932  0.956617  0.983841\n",
       " 1.57266   0.665359  0.856818  0.842129     0.284941  0.929942  0.707277\n",
       " 0.898069  0.125949  0.467786  0.546594     0.56464   0.415168  0.1\n",
       " 1.3796    0.130188  0.486603  0.299697  …  1.37629   1.16298   1.11433\n",
       " 1.10983   0.1       0.52415   0.156218     0.309646  0.84895   0.0915\n",
       " 0.845763  0.96107   0.511301  0.1          0.314187  0.886801  0.984891\n",
       " 1.51259   1.29817   0.763043  0.755011     1.09075   0.869258  0.12196\n",
       " 1.09188   0.95955   0.772693  0.299005     0.608495  0.404634  0.493236\n",
       " 1.37003   0.351032  0.739575  0.1       …  0.227411  0.321557  0.226957"
      ]
     },
     "execution_count": 4,
     "metadata": {},
     "output_type": "execute_result"
    }
   ],
   "source": [
    "production_times = [\n",
    "    1.313962 0.597045 1.009159 0.612462 0.449617 0.837132 0.772335 0.516805 0.578815 0.100000 0.685093 0.100000 0.436276 0.738441 0.118670 0.277524 0.493666 0.885146 0.203521 0.100000 0.135818 0.629099 0.680649 0.481319 0.180385 0.944709 0.747208 \n",
    "    1.125384 0.549770 0.746493 0.337872 0.001165 1.077978 0.538118 0.945970 0.635612 0.592962 0.907819 0.127168 1.033690 0.837369 0.100000 0.731133 0.610901 0.507580 0.524510 0.341730 0.373138 0.538946 0.662680 0.278364 0.622943 0.873428 0.344741 \n",
    "    0.974094 0.518205 0.773904 0.279570 0.000150 0.440662 0.339608 0.537872 0.962631 0.100000 0.358857 0.332600 0.100000 0.820566 0.529051 0.100000 0.571007 0.234868 0.843442 1.192587 0.640188 1.160046 0.984348 0.356233 0.836932 0.956617 0.983841 \n",
    "    1.572660 0.665359 0.856818 0.842129 0.150582 1.009583 0.484141 1.232283 0.640873 0.449888 1.265831 0.582249 0.460993 0.341157 0.339155 0.058748 0.680368 1.142364 0.100000 0.348297 0.333913 1.137994 0.987456 0.339435 0.284941 0.929942 0.707277 \n",
    "    0.898069 0.125949 0.467786 0.546594 0.142375 0.207885 0.210388 0.425543 0.237767 0.179150 0.094757 0.100000 0.068130 0.100000 0.100000 0.602273 0.514534 0.391336 0.182386 0.100000 0.546251 0.445065 0.748578 0.731170 0.564640 0.415168 0.100000 \n",
    "    1.379605 0.130188 0.486603 0.299697 0.100000 0.100000 0.100000 1.085317 0.762615 0.100000 0.068504 0.933243 0.100000 0.100000 0.336508 0.100000 1.275376 0.213094 0.674059 1.230953 0.100000 0.863346 1.075218 1.411747 1.376286 1.162985 1.114326 \n",
    "    1.109833 0.100000 0.524150 0.156218 0.238192 0.100000 1.252440 0.943218 1.579160 0.100000 0.734170 0.465704 0.204304 0.344996 0.100000 0.869373 0.946586 0.695260 0.831999 1.157619 0.539516 0.082603 0.206743 0.350447 0.309646 0.848950 0.091500 \n",
    "    0.845763 0.961070 0.511301 0.100000 0.100000 0.290111 1.075047 1.092602 0.824097 0.100000 0.521137 0.765702 0.010663 0.292768 0.187448 0.096697 0.692770 0.901463 0.660722 0.290358 0.965068 0.497296 1.450147 0.377958 0.314187 0.886801 0.984891 \n",
    "    1.512588 1.298165 0.763043 0.755011 0.100000 1.029159 0.345728 0.734917 1.009231 0.146111 0.077315 0.523648 0.100000 0.652456 0.515476 0.777121 0.100000 0.935739 0.620474 0.750382 0.538626 0.570449 0.540436 0.535995 1.090752 0.869258 0.121960 \n",
    "    1.091883 0.959550 0.772693 0.299005 0.279401 0.999538 0.704504 0.610980 0.452057 0.146066 0.564167 0.100000 0.102006 0.741028 0.105038 0.483031 0.282629 1.010945 0.749318 0.816155 0.227229 1.419271 0.820718 0.288646 0.608495 0.404634 0.493236 \n",
    "    1.370025 0.351032 0.739575 0.100000 0.821125 0.303201 0.581145 0.595318 0.333740 0.100000 0.460903 0.148374 0.424300 0.351381 0.014628 0.540198 0.364985 0.671686 0.869736 0.100000 0.100000 0.877114 1.269992 0.549942 0.227411 0.321557 0.226957 \n",
    "]"
   ]
  },
  {
   "cell_type": "code",
   "execution_count": 5,
   "id": "cd41bbba-1f43-428b-aca9-aeff233028ae",
   "metadata": {},
   "outputs": [
    {
     "data": {
      "text/plain": [
       "A JuMP Model\n",
       "├ solver: GLPK\n",
       "├ objective_sense: FEASIBILITY_SENSE\n",
       "├ num_variables: 0\n",
       "├ num_constraints: 0\n",
       "└ Names registered in the model: none"
      ]
     },
     "execution_count": 5,
     "metadata": {},
     "output_type": "execute_result"
    }
   ],
   "source": [
    "model = Model(GLPK.Optimizer)"
   ]
  },
  {
   "cell_type": "code",
   "execution_count": 6,
   "id": "2e70eb49-6f72-4951-9051-ca5730acf3d7",
   "metadata": {},
   "outputs": [
    {
     "data": {
      "text/latex": [
       "$ T $"
      ],
      "text/plain": [
       "T"
      ]
     },
     "execution_count": 6,
     "metadata": {},
     "output_type": "execute_result"
    }
   ],
   "source": [
    "# Variables\n",
    "@variable(model, x[1:n, 1:m], Bin)  # Assignment of tasks to workers\n",
    "@variable(model, b[1:n, 1:m], Bin)  # Start of a block for a worker\n",
    "@variable(model, e[1:n, 1:m], Bin)  # End of a block for a worker\n",
    "@variable(model, T >= 0)  # Maximum workload"
   ]
  },
  {
   "cell_type": "code",
   "execution_count": 7,
   "id": "3d921dcd-2b9c-4484-95ea-16b3a2655cdb",
   "metadata": {},
   "outputs": [
    {
     "data": {
      "text/latex": [
       "$ T $"
      ],
      "text/plain": [
       "T"
      ]
     },
     "execution_count": 7,
     "metadata": {},
     "output_type": "execute_result"
    }
   ],
   "source": [
    "@objective(model, Min, T)"
   ]
  },
  {
   "cell_type": "code",
   "execution_count": 8,
   "id": "18084521-52c6-494f-84f5-c3b21eadb910",
   "metadata": {},
   "outputs": [],
   "source": [
    "for i in 1:n\n",
    "    @constraint(model, sum(x[i, j] for j in 1:m) == 1)\n",
    "end"
   ]
  },
  {
   "cell_type": "code",
   "execution_count": 9,
   "id": "e6b23ae0-798e-4fd4-b1a7-5ff6ce9802c9",
   "metadata": {},
   "outputs": [],
   "source": [
    "# Contiguity constraints: Each worker has exactly one contiguous block\n",
    "for j in 1:m\n",
    "    # Exactly one start and one end per worker\n",
    "    @constraint(model, sum(b[i, j] for i in 1:n) == 1)\n",
    "    @constraint(model, sum(e[i, j] for i in 1:n) == 1)\n",
    "    \n",
    "    # Start position definition\n",
    "    for i in 1:n\n",
    "        # Handle boundary cases (i=1 and i=num_operations)\n",
    "        prev_x = (i == 1) ? 0 : x[i-1, j]\n",
    "        next_x = (i == n) ? 0 : x[i+1, j]\n",
    "        \n",
    "        # d[i,j] = 1 if x[i,j] = 1 and x[i-1,j] = 0\n",
    "        @constraint(model, b[i, j] >= x[i, j] - prev_x)\n",
    "        @constraint(model, b[i, j] <= x[i, j])\n",
    "        @constraint(model, b[i, j] <= 1 - prev_x)\n",
    "        \n",
    "        # e[i,j] = 1 if x[i,j] = 1 and x[i+1,j] = 0\n",
    "        @constraint(model, e[i, j] >= x[i, j] - next_x)\n",
    "        @constraint(model, e[i, j] <= x[i, j])\n",
    "        @constraint(model, e[i, j] <= 1 - next_x)\n",
    "    end\n",
    "end"
   ]
  },
  {
   "cell_type": "code",
   "execution_count": 10,
   "id": "c3fd2faa-fe62-4f59-8405-1bca7fa3ae78",
   "metadata": {},
   "outputs": [],
   "source": [
    "# Workload constraints: T >= sum of production times for each worker\n",
    "for j in 1:m\n",
    "    @constraint(model, T >= sum(production_times[j, i] * x[i, j] for i in 1:n))\n",
    "end"
   ]
  },
  {
   "cell_type": "code",
   "execution_count": 11,
   "id": "5f1388ef-ab70-430b-b527-18c983c9a386",
   "metadata": {},
   "outputs": [],
   "source": [
    "optimize!(model)"
   ]
  },
  {
   "cell_type": "code",
   "execution_count": 12,
   "id": "e49b2ada-915f-4c07-9ccb-8079058fff26",
   "metadata": {},
   "outputs": [
    {
     "name": "stdout",
     "output_type": "stream",
     "text": [
      "Maximum workload (T): 0.845763\n",
      "Worker 1: Tasks [19, 20, 21] | Workload: 0.43933900000000004\n",
      "Worker 2: Tasks [2] | Workload: 0.54977\n",
      "Worker 3: Tasks [17, 18] | Workload: 0.805875\n",
      "Worker 4: Tasks [14, 15, 16] | Workload: 0.73906\n",
      "Worker 5: Tasks [9, 10, 11, 12, 13] | Workload: 0.679804\n",
      "Worker 6: Tasks [4, 5, 6, 7] | Workload: 0.5996969999999999\n",
      "Worker 7: Tasks [22, 23, 24] | Workload: 0.6397930000000001\n",
      "Worker 8: Tasks [1] | Workload: 0.845763\n",
      "Worker 9: Tasks [3] | Workload: 0.763043\n",
      "Worker 10: Tasks [8] | Workload: 0.61098\n",
      "Worker 11: Tasks [25, 26, 27] | Workload: 0.775925\n"
     ]
    }
   ],
   "source": [
    "println(\"Maximum workload (T): \", objective_value(model))\n",
    "\n",
    "# Print assignments\n",
    "for j in 1:m\n",
    "    assigned_tasks = [i for i in 1:n if value(x[i, j]) > 0.5]\n",
    "    if !isempty(assigned_tasks)\n",
    "        println(\"Worker $j: Tasks \", assigned_tasks, \" | Workload: \", sum(production_times[j, i] for i in assigned_tasks))\n",
    "    end\n",
    "end"
   ]
  }
 ],
 "metadata": {
  "kernelspec": {
   "display_name": "Julia 1.11.5",
   "language": "julia",
   "name": "julia-1.11"
  },
  "language_info": {
   "file_extension": ".jl",
   "mimetype": "application/julia",
   "name": "julia",
   "version": "1.11.5"
  }
 },
 "nbformat": 4,
 "nbformat_minor": 5
}
