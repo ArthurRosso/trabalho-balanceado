{
 "cells": [
  {
   "cell_type": "code",
   "execution_count": 1,
   "id": "86d4cc39-de15-44aa-a8e0-c16106c17766",
   "metadata": {},
   "outputs": [
    {
     "name": "stderr",
     "output_type": "stream",
     "text": [
      "\u001b[32m\u001b[1m   Resolving\u001b[22m\u001b[39m package versions...\n",
      "\u001b[32m\u001b[1m  No Changes\u001b[22m\u001b[39m to `~/.julia/environments/v1.11/Project.toml`\n",
      "\u001b[32m\u001b[1m  No Changes\u001b[22m\u001b[39m to `~/.julia/environments/v1.11/Manifest.toml`\n",
      "\u001b[32m\u001b[1m   Resolving\u001b[22m\u001b[39m package versions...\n",
      "\u001b[32m\u001b[1m  No Changes\u001b[22m\u001b[39m to `~/.julia/environments/v1.11/Project.toml`\n",
      "\u001b[32m\u001b[1m  No Changes\u001b[22m\u001b[39m to `~/.julia/environments/v1.11/Manifest.toml`\n",
      "\u001b[32m\u001b[1m   Resolving\u001b[22m\u001b[39m package versions...\n",
      "\u001b[32m\u001b[1m  No Changes\u001b[22m\u001b[39m to `~/.julia/environments/v1.11/Project.toml`\n",
      "\u001b[32m\u001b[1m  No Changes\u001b[22m\u001b[39m to `~/.julia/environments/v1.11/Manifest.toml`\n"
     ]
    }
   ],
   "source": [
    "import Pkg; Pkg.add(\"JuMP\");  Pkg.add(\"GLPK\");  Pkg.add(\"DelimitedFiles\"); "
   ]
  },
  {
   "cell_type": "code",
   "execution_count": 2,
   "id": "2167a91f-c3a4-4e32-9623-643d3df85afc",
   "metadata": {},
   "outputs": [],
   "source": [
    "using JuMP          # Modeling language for optimization\n",
    "using GLPK          # Open-source solver for linear programming"
   ]
  },
  {
   "cell_type": "code",
   "execution_count": 3,
   "id": "3663cb1c-dfba-4dc2-80e5-403829b0026c",
   "metadata": {},
   "outputs": [
    {
     "data": {
      "text/plain": [
       "13"
      ]
     },
     "execution_count": 3,
     "metadata": {},
     "output_type": "execute_result"
    }
   ],
   "source": [
    "# Dados do problema\n",
    "n = 37  # número de operações\n",
    "m = 13  # número de trabalhadores"
   ]
  },
  {
   "cell_type": "code",
   "execution_count": 4,
   "id": "7b5723d2-4585-4f74-9c92-ee662f6b3737",
   "metadata": {},
   "outputs": [
    {
     "data": {
      "text/plain": [
       "13×37 Matrix{Float64}:\n",
       " 0.423654  0.283088  0.401749  0.537266  …  1.57096   0.69272   0.607364\n",
       " 0.869255  0.726535  0.139632  0.1          0.267074  0.1       1.06298\n",
       " 0.572249  0.949738  0.586244  0.1          0.087226  0.002081  0.077594\n",
       " 0.77392   0.228788  0.115829  0.36347      0.426481  0.441588  0.1\n",
       " 0.1       0.250595  0.58965   0.43622      0.442129  0.47318   0.1\n",
       " 0.766733  0.08172   0.794455  0.1       …  0.402502  0.569648  0.980543\n",
       " 0.357801  0.236615  0.473655  0.262793     0.585411  0.404629  0.41262\n",
       " 0.1       0.547307  0.615576  0.1          0.835605  0.1       0.057046\n",
       " 0.983934  0.261846  1.23193   0.884645     0.099338  0.098271  0.230929\n",
       " 0.789876  0.166174  0.1       0.22335      0.536702  0.686774  0.1\n",
       " 0.749664  0.291782  0.404903  0.444787  …  0.267699  0.130255  0.424713\n",
       " 0.1       0.1       0.314032  0.507438     0.584303  0.847889  0.945105\n",
       " 1.30649   0.065853  0.09109   0.310499     0.890559  0.233397  0.1"
      ]
     },
     "execution_count": 4,
     "metadata": {},
     "output_type": "execute_result"
    }
   ],
   "source": [
    "production_times = [\n",
    "    0.423654 0.283088 0.401749 0.537266 0.659383 0.187169 0.726688 0.100000 1.501611 0.100000 0.299022 0.265373 0.408561 0.012306 0.100000 1.357203 0.893916 1.045484 0.100000 0.447577 0.100000 0.100000 0.642908 0.161556 0.222289 1.049944 1.222469 0.100000 0.580845 0.985271 1.864559 0.124676 0.366306 0.498465 1.570959 0.692720 0.607364 \n",
    "    0.869255 0.726535 0.139632 0.100000 0.406066 0.424875 1.391138 0.819067 0.792095 0.458505 0.569375 0.480167 0.808194 0.100000 1.074828 0.923875 0.100000 0.221318 0.647856 1.036310 0.354233 0.523441 0.803523 0.527607 0.364845 0.415553 0.100000 0.057583 0.727878 0.737818 0.652523 0.784421 0.841741 1.164389 0.267074 0.100000 1.062979 \n",
    "    0.572249 0.949738 0.586244 0.100000 0.804295 0.518671 0.078673 0.774149 0.385562 0.859574 0.138032 0.106480 1.527984 0.415206 0.100000 0.133900 0.289637 0.970430 0.761422 1.243011 0.219962 0.122468 0.673184 0.100000 0.089253 0.828612 0.690065 1.023505 0.223692 0.559279 1.125790 0.363079 0.357954 0.377114 0.087226 0.002081 0.077594 \n",
    "    0.773920 0.228788 0.115829 0.363470 2.006115 0.767712 0.332513 1.066157 0.587722 1.212666 0.100000 0.100000 0.182856 0.100000 0.947802 0.100000 0.405775 1.018406 0.676851 0.552494 0.119828 0.605882 0.100000 0.436218 0.100000 0.962646 0.100000 0.976239 0.100000 1.223247 0.585397 0.257549 0.289149 0.833516 0.426481 0.441588 0.100000 \n",
    "    0.100000 0.250595 0.589650 0.436220 0.690579 1.396425 0.100000 0.830534 0.644896 0.100000 0.100000 0.226418 0.100000 0.767794 0.956787 0.414027 0.100000 0.564348 1.210821 0.883664 0.558584 0.552752 0.622719 0.100000 0.115932 0.069594 1.551684 0.279594 0.100000 1.097523 0.100000 1.329288 1.280115 0.098221 0.442129 0.473180 0.100000 \n",
    "    0.766733 0.081720 0.794455 0.100000 1.075815 1.521521 0.132180 0.395028 0.100000 0.100000 0.100000 0.100000 0.951540 0.100000 0.980411 0.369661 0.373938 0.662027 1.083990 0.472567 0.720664 0.563668 0.638337 0.470541 0.013354 0.570563 0.100000 0.298356 0.510770 1.140620 0.778996 0.196933 1.292942 0.100000 0.402502 0.569648 0.980543 \n",
    "    0.357801 0.236615 0.473655 0.262793 0.100000 0.100000 0.100000 0.428089 1.694532 0.100000 0.583089 0.327736 0.100000 0.100000 0.100000 0.070174 0.997952 1.211436 1.214322 0.100000 0.452432 0.565002 0.351045 0.629129 0.100000 0.356196 0.114589 1.360129 0.100000 1.028605 0.886417 0.100000 0.997328 0.627691 0.585411 0.404629 0.412620 \n",
    "    0.100000 0.547307 0.615576 0.100000 0.566854 0.672745 0.099588 0.100000 0.100000 1.031771 0.100000 0.143497 0.152893 0.375519 0.100000 0.088041 0.394794 0.100000 0.526791 0.100000 0.100000 0.449829 1.199344 0.797251 1.510302 0.592457 0.667199 0.553175 0.225428 1.185482 0.516557 0.589015 0.100000 0.490431 0.835605 0.100000 0.057046 \n",
    "    0.983934 0.261846 1.231931 0.884645 0.423723 0.455395 0.365500 0.100000 1.151994 0.605645 0.392618 0.747435 0.664120 0.790678 0.539219 0.413247 0.100000 0.797657 0.328296 0.321891 0.606485 0.683920 0.340310 0.619162 0.405280 0.022599 1.070977 0.113888 0.100000 0.100000 1.238311 0.100000 0.799720 0.777482 0.099338 0.098271 0.230929 \n",
    "    0.789876 0.166174 0.100000 0.223350 1.259682 0.415396 0.100000 0.268183 0.180231 0.328989 0.100000 0.384930 0.831347 0.607636 0.100000 0.706883 0.100000 1.114479 0.228185 0.495110 0.195735 0.271490 0.126910 0.311468 0.783895 0.390367 0.731954 0.372603 0.754047 0.853063 0.100000 0.100000 0.185096 0.565500 0.536702 0.686774 0.100000 \n",
    "    0.749664 0.291782 0.404903 0.444787 0.100000 0.183903 0.100000 0.562395 1.088673 1.194003 0.100000 0.100000 0.388049 0.100000 0.238763 0.281265 0.308395 0.858590 0.606299 0.016527 0.575453 0.436060 0.741274 0.994668 0.670449 0.868317 0.099896 0.863107 0.168342 0.100000 0.615704 0.100000 0.042430 0.100000 0.267699 0.130255 0.424713 \n",
    "    0.100000 0.100000 0.314032 0.507438 0.362484 0.345224 0.797920 0.100000 0.770617 0.688759 0.165577 0.935507 1.060342 0.269227 0.514151 0.695363 0.839036 0.100000 0.100000 0.011191 1.292022 0.100000 0.100000 1.259202 0.100000 0.407771 0.994697 0.658166 0.349541 0.894319 0.848602 0.100000 1.862418 0.534835 0.584303 0.847889 0.945105 \n",
    "    1.306493 0.065853 0.091090 0.310499 0.794966 0.129894 0.630383 0.100000 0.443096 0.245461 0.052134 0.750293 0.156868 0.925495 0.100000 0.100000 0.100000 0.223969 0.100000 0.100000 0.404933 1.124190 0.100000 0.626568 0.100000 0.100000 0.100000 0.100000 0.415234 1.021791 0.359019 0.100000 0.748070 0.100000 0.890559 0.233397 0.100000 \n",
    "]"
   ]
  },
  {
   "cell_type": "code",
   "execution_count": 5,
   "id": "cd41bbba-1f43-428b-aca9-aeff233028ae",
   "metadata": {},
   "outputs": [
    {
     "data": {
      "text/plain": [
       "A JuMP Model\n",
       "├ solver: GLPK\n",
       "├ objective_sense: FEASIBILITY_SENSE\n",
       "├ num_variables: 0\n",
       "├ num_constraints: 0\n",
       "└ Names registered in the model: none"
      ]
     },
     "execution_count": 5,
     "metadata": {},
     "output_type": "execute_result"
    }
   ],
   "source": [
    "model = Model(GLPK.Optimizer)"
   ]
  },
  {
   "cell_type": "code",
   "execution_count": 6,
   "id": "2e70eb49-6f72-4951-9051-ca5730acf3d7",
   "metadata": {},
   "outputs": [
    {
     "data": {
      "text/latex": [
       "$ T $"
      ],
      "text/plain": [
       "T"
      ]
     },
     "execution_count": 6,
     "metadata": {},
     "output_type": "execute_result"
    }
   ],
   "source": [
    "# Variables\n",
    "@variable(model, x[1:n, 1:m], Bin)  # Assignment of tasks to workers\n",
    "@variable(model, b[1:n, 1:m], Bin)  # Start of a block for a worker\n",
    "@variable(model, e[1:n, 1:m], Bin)  # End of a block for a worker\n",
    "@variable(model, T >= 0)  # Maximum workload"
   ]
  },
  {
   "cell_type": "code",
   "execution_count": 7,
   "id": "3d921dcd-2b9c-4484-95ea-16b3a2655cdb",
   "metadata": {},
   "outputs": [
    {
     "data": {
      "text/latex": [
       "$ T $"
      ],
      "text/plain": [
       "T"
      ]
     },
     "execution_count": 7,
     "metadata": {},
     "output_type": "execute_result"
    }
   ],
   "source": [
    "@objective(model, Min, T)"
   ]
  },
  {
   "cell_type": "code",
   "execution_count": 8,
   "id": "18084521-52c6-494f-84f5-c3b21eadb910",
   "metadata": {},
   "outputs": [],
   "source": [
    "for i in 1:n\n",
    "    @constraint(model, sum(x[i, j] for j in 1:m) == 1)\n",
    "end"
   ]
  },
  {
   "cell_type": "code",
   "execution_count": 9,
   "id": "e6b23ae0-798e-4fd4-b1a7-5ff6ce9802c9",
   "metadata": {},
   "outputs": [],
   "source": [
    "# Contiguity constraints: Each worker has exactly one contiguous block\n",
    "for j in 1:m\n",
    "    # Exactly one start and one end per worker\n",
    "    @constraint(model, sum(b[i, j] for i in 1:n) == 1)\n",
    "    @constraint(model, sum(e[i, j] for i in 1:n) == 1)\n",
    "    \n",
    "    # Start position definition\n",
    "    for i in 1:n\n",
    "        # Handle boundary cases (i=1 and i=num_operations)\n",
    "        prev_x = (i == 1) ? 0 : x[i-1, j]\n",
    "        next_x = (i == n) ? 0 : x[i+1, j]\n",
    "        \n",
    "        # d[i,j] = 1 if x[i,j] = 1 and x[i-1,j] = 0\n",
    "        @constraint(model, b[i, j] >= x[i, j] - prev_x)\n",
    "        @constraint(model, b[i, j] <= x[i, j])\n",
    "        @constraint(model, b[i, j] <= 1 - prev_x)\n",
    "        \n",
    "        # e[i,j] = 1 if x[i,j] = 1 and x[i+1,j] = 0\n",
    "        @constraint(model, e[i, j] >= x[i, j] - next_x)\n",
    "        @constraint(model, e[i, j] <= x[i, j])\n",
    "        @constraint(model, e[i, j] <= 1 - next_x)\n",
    "    end\n",
    "end"
   ]
  },
  {
   "cell_type": "code",
   "execution_count": 10,
   "id": "c3fd2faa-fe62-4f59-8405-1bca7fa3ae78",
   "metadata": {},
   "outputs": [],
   "source": [
    "# Workload constraints: T >= sum of production times for each worker\n",
    "for j in 1:m\n",
    "    @constraint(model, T >= sum(production_times[j, i] * x[i, j] for i in 1:n))\n",
    "end"
   ]
  },
  {
   "cell_type": "code",
   "execution_count": 11,
   "id": "5f1388ef-ab70-430b-b527-18c983c9a386",
   "metadata": {},
   "outputs": [],
   "source": [
    "optimize!(model)"
   ]
  },
  {
   "cell_type": "code",
   "execution_count": 12,
   "id": "e49b2ada-915f-4c07-9ccb-8079058fff26",
   "metadata": {},
   "outputs": [
    {
     "name": "stdout",
     "output_type": "stream",
     "text": [
      "Maximum workload (T): 0.56356\n",
      "Worker 1: Tasks [21, 22] | Workload: 0.2\n",
      "Worker 2: Tasks [27, 28] | Workload: 0.157583\n",
      "Worker 3: Tasks [34, 35, 36, 37] | Workload: 0.5440149999999999\n",
      "Worker 4: Tasks [23, 24] | Workload: 0.536218\n",
      "Worker 5: Tasks [10, 11, 12, 13] | Workload: 0.526418\n",
      "Worker 6: Tasks [8, 9] | Workload: 0.495028\n",
      "Worker 7: Tasks [4, 5, 6, 7] | Workload: 0.562793\n",
      "Worker 8: Tasks [14, 15, 16] | Workload: 0.5635600000000001\n",
      "Worker 9: Tasks [25, 26] | Workload: 0.42787899999999995\n",
      "Worker 10: Tasks [31, 32, 33] | Workload: 0.385096\n",
      "Worker 11: Tasks [29, 30] | Workload: 0.26834199999999997\n",
      "Worker 12: Tasks [1, 2, 3] | Workload: 0.514032\n",
      "Worker 13: Tasks [17, 18, 19, 20] | Workload: 0.523969\n"
     ]
    }
   ],
   "source": [
    "println(\"Maximum workload (T): \", objective_value(model))\n",
    "\n",
    "# Print assignments\n",
    "for j in 1:m\n",
    "    assigned_tasks = [i for i in 1:n if value(x[i, j]) > 0.5]\n",
    "    if !isempty(assigned_tasks)\n",
    "        println(\"Worker $j: Tasks \", assigned_tasks, \" | Workload: \", sum(production_times[j, i] for i in assigned_tasks))\n",
    "    end\n",
    "end"
   ]
  }
 ],
 "metadata": {
  "kernelspec": {
   "display_name": "Julia 1.11.5",
   "language": "julia",
   "name": "julia-1.11"
  },
  "language_info": {
   "file_extension": ".jl",
   "mimetype": "application/julia",
   "name": "julia",
   "version": "1.11.5"
  }
 },
 "nbformat": 4,
 "nbformat_minor": 5
}
