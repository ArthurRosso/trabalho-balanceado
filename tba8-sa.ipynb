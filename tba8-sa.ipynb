{
 "cells": [
  {
   "cell_type": "code",
   "execution_count": 1,
   "id": "6e459c90-8c94-4a49-a2c2-e864087bb7db",
   "metadata": {},
   "outputs": [
    {
     "name": "stderr",
     "output_type": "stream",
     "text": [
      "\u001b[32m\u001b[1m   Resolving\u001b[22m\u001b[39m package versions...\n",
      "\u001b[32m\u001b[1m  No Changes\u001b[22m\u001b[39m to `~/.julia/environments/v1.11/Project.toml`\n",
      "\u001b[32m\u001b[1m  No Changes\u001b[22m\u001b[39m to `~/.julia/environments/v1.11/Manifest.toml`\n",
      "\u001b[32m\u001b[1m   Resolving\u001b[22m\u001b[39m package versions...\n",
      "\u001b[32m\u001b[1m  No Changes\u001b[22m\u001b[39m to `~/.julia/environments/v1.11/Project.toml`\n",
      "\u001b[32m\u001b[1m  No Changes\u001b[22m\u001b[39m to `~/.julia/environments/v1.11/Manifest.toml`\n"
     ]
    }
   ],
   "source": [
    "import Pkg; Pkg.add(\"Random\");  Pkg.add(\"Plots\");"
   ]
  },
  {
   "cell_type": "code",
   "execution_count": 2,
   "id": "abbb468f-314a-4192-8af0-f7e290e31406",
   "metadata": {},
   "outputs": [],
   "source": [
    "using Random\n",
    "using Plots"
   ]
  },
  {
   "cell_type": "code",
   "execution_count": 3,
   "id": "738a9006-ef63-457f-a5b4-63561981129c",
   "metadata": {},
   "outputs": [
    {
     "data": {
      "text/plain": [
       "11"
      ]
     },
     "execution_count": 3,
     "metadata": {},
     "output_type": "execute_result"
    }
   ],
   "source": [
    "# Dados do problema\n",
    "n = 27  # número de operações\n",
    "m = 11  # número de trabalhadores"
   ]
  },
  {
   "cell_type": "code",
   "execution_count": 4,
   "id": "84aa9628-f127-4517-9745-830d5b43d4dd",
   "metadata": {},
   "outputs": [
    {
     "data": {
      "text/plain": [
       "11×27 Matrix{Float64}:\n",
       " 1.31396   0.597045  1.00916   0.612462  …  0.180385  0.944709  0.747208\n",
       " 1.12538   0.54977   0.746493  0.337872     0.622943  0.873428  0.344741\n",
       " 0.974094  0.518205  0.773904  0.27957      0.836932  0.956617  0.983841\n",
       " 1.57266   0.665359  0.856818  0.842129     0.284941  0.929942  0.707277\n",
       " 0.898069  0.125949  0.467786  0.546594     0.56464   0.415168  0.1\n",
       " 1.3796    0.130188  0.486603  0.299697  …  1.37629   1.16298   1.11433\n",
       " 1.10983   0.1       0.52415   0.156218     0.309646  0.84895   0.0915\n",
       " 0.845763  0.96107   0.511301  0.1          0.314187  0.886801  0.984891\n",
       " 1.51259   1.29817   0.763043  0.755011     1.09075   0.869258  0.12196\n",
       " 1.09188   0.95955   0.772693  0.299005     0.608495  0.404634  0.493236\n",
       " 1.37003   0.351032  0.739575  0.1       …  0.227411  0.321557  0.226957"
      ]
     },
     "execution_count": 4,
     "metadata": {},
     "output_type": "execute_result"
    }
   ],
   "source": [
    "production_times = [\n",
    "    1.313962 0.597045 1.009159 0.612462 0.449617 0.837132 0.772335 0.516805 0.578815 0.100000 0.685093 0.100000 0.436276 0.738441 0.118670 0.277524 0.493666 0.885146 0.203521 0.100000 0.135818 0.629099 0.680649 0.481319 0.180385 0.944709 0.747208 \n",
    "    1.125384 0.549770 0.746493 0.337872 0.001165 1.077978 0.538118 0.945970 0.635612 0.592962 0.907819 0.127168 1.033690 0.837369 0.100000 0.731133 0.610901 0.507580 0.524510 0.341730 0.373138 0.538946 0.662680 0.278364 0.622943 0.873428 0.344741 \n",
    "    0.974094 0.518205 0.773904 0.279570 0.000150 0.440662 0.339608 0.537872 0.962631 0.100000 0.358857 0.332600 0.100000 0.820566 0.529051 0.100000 0.571007 0.234868 0.843442 1.192587 0.640188 1.160046 0.984348 0.356233 0.836932 0.956617 0.983841 \n",
    "    1.572660 0.665359 0.856818 0.842129 0.150582 1.009583 0.484141 1.232283 0.640873 0.449888 1.265831 0.582249 0.460993 0.341157 0.339155 0.058748 0.680368 1.142364 0.100000 0.348297 0.333913 1.137994 0.987456 0.339435 0.284941 0.929942 0.707277 \n",
    "    0.898069 0.125949 0.467786 0.546594 0.142375 0.207885 0.210388 0.425543 0.237767 0.179150 0.094757 0.100000 0.068130 0.100000 0.100000 0.602273 0.514534 0.391336 0.182386 0.100000 0.546251 0.445065 0.748578 0.731170 0.564640 0.415168 0.100000 \n",
    "    1.379605 0.130188 0.486603 0.299697 0.100000 0.100000 0.100000 1.085317 0.762615 0.100000 0.068504 0.933243 0.100000 0.100000 0.336508 0.100000 1.275376 0.213094 0.674059 1.230953 0.100000 0.863346 1.075218 1.411747 1.376286 1.162985 1.114326 \n",
    "    1.109833 0.100000 0.524150 0.156218 0.238192 0.100000 1.252440 0.943218 1.579160 0.100000 0.734170 0.465704 0.204304 0.344996 0.100000 0.869373 0.946586 0.695260 0.831999 1.157619 0.539516 0.082603 0.206743 0.350447 0.309646 0.848950 0.091500 \n",
    "    0.845763 0.961070 0.511301 0.100000 0.100000 0.290111 1.075047 1.092602 0.824097 0.100000 0.521137 0.765702 0.010663 0.292768 0.187448 0.096697 0.692770 0.901463 0.660722 0.290358 0.965068 0.497296 1.450147 0.377958 0.314187 0.886801 0.984891 \n",
    "    1.512588 1.298165 0.763043 0.755011 0.100000 1.029159 0.345728 0.734917 1.009231 0.146111 0.077315 0.523648 0.100000 0.652456 0.515476 0.777121 0.100000 0.935739 0.620474 0.750382 0.538626 0.570449 0.540436 0.535995 1.090752 0.869258 0.121960 \n",
    "    1.091883 0.959550 0.772693 0.299005 0.279401 0.999538 0.704504 0.610980 0.452057 0.146066 0.564167 0.100000 0.102006 0.741028 0.105038 0.483031 0.282629 1.010945 0.749318 0.816155 0.227229 1.419271 0.820718 0.288646 0.608495 0.404634 0.493236 \n",
    "    1.370025 0.351032 0.739575 0.100000 0.821125 0.303201 0.581145 0.595318 0.333740 0.100000 0.460903 0.148374 0.424300 0.351381 0.014628 0.540198 0.364985 0.671686 0.869736 0.100000 0.100000 0.877114 1.269992 0.549942 0.227411 0.321557 0.226957 \n",
    "]"
   ]
  },
  {
   "cell_type": "code",
   "execution_count": 5,
   "id": "fdd82bab-54b8-420a-a304-d5439dcfce19",
   "metadata": {},
   "outputs": [
    {
     "data": {
      "text/plain": [
       "is_valid_assignment (generic function with 1 method)"
      ]
     },
     "execution_count": 5,
     "metadata": {},
     "output_type": "execute_result"
    }
   ],
   "source": [
    "# Funções auxiliares\n",
    "function calculate_max_workload(assignment, production_times, n, m)\n",
    "    workloads = zeros(m)\n",
    "    for j in 1:m\n",
    "        for i in 1:n\n",
    "            if assignment[i] == j\n",
    "                workloads[j] += production_times[j, i]\n",
    "            end\n",
    "        end\n",
    "    end\n",
    "    return maximum(workloads)\n",
    "end\n",
    "\n",
    "function is_valid_assignment(assignment, m)\n",
    "    for j in 1:m\n",
    "        assigned_indices = findall(x -> x == j, assignment)\n",
    "        if !isempty(assigned_indices)\n",
    "            if maximum(assigned_indices) - minimum(assigned_indices) + 1 != length(assigned_indices)\n",
    "                return false\n",
    "            end\n",
    "        end\n",
    "    end\n",
    "    return true\n",
    "end"
   ]
  },
  {
   "cell_type": "code",
   "execution_count": 6,
   "id": "3c4e04c3-7d9d-4eb8-ba0b-67bd04c0c902",
   "metadata": {},
   "outputs": [
    {
     "data": {
      "text/plain": [
       "generate_initial_solution (generic function with 1 method)"
      ]
     },
     "execution_count": 6,
     "metadata": {},
     "output_type": "execute_result"
    }
   ],
   "source": [
    "# Geração de solução inicial\n",
    "function generate_initial_solution(n, m)\n",
    "    # Divide as tarefas em m blocos contíguos\n",
    "    split_points = sort([rand(1:n-1) for _ in 1:(m-1)])\n",
    "    split_points = unique(split_points)\n",
    "    while length(split_points) < m-1\n",
    "        new_point = rand(1:n-1)\n",
    "        if !(new_point in split_points)\n",
    "            push!(split_points, new_point)\n",
    "        end\n",
    "    end\n",
    "    split_points = sort(unique(split_points))\n",
    "    push!(split_points, n)\n",
    "    \n",
    "    assignment = zeros(Int, n)\n",
    "    start = 1\n",
    "    for (j, stop) in enumerate(split_points)\n",
    "        assignment[start:stop] .= j\n",
    "        start = stop + 1\n",
    "    end\n",
    "    \n",
    "    # Alguns workers podem ficar sem tarefas, então redistribuímos\n",
    "    used_workers = unique(assignment)\n",
    "    if length(used_workers) < m\n",
    "        unused_workers = setdiff(1:m, used_workers)\n",
    "        for worker in unused_workers\n",
    "            if length(used_workers) >= 1\n",
    "                donor = rand(used_workers)\n",
    "                donor_tasks = findall(x -> x == donor, assignment)\n",
    "                if length(donor_tasks) > 1\n",
    "                    split_point = rand(1:(length(donor_tasks)-1))\n",
    "                    assignment[donor_tasks[1:split_point]] .= worker\n",
    "                    push!(used_workers, worker)\n",
    "                end\n",
    "            end\n",
    "        end\n",
    "    end\n",
    "    \n",
    "    return assignment\n",
    "end"
   ]
  },
  {
   "cell_type": "code",
   "execution_count": 7,
   "id": "791e519a-0d95-4ce0-a5c5-e0a03ff827cd",
   "metadata": {},
   "outputs": [
    {
     "data": {
      "text/plain": [
       "generate_neighbor (generic function with 1 method)"
      ]
     },
     "execution_count": 7,
     "metadata": {},
     "output_type": "execute_result"
    }
   ],
   "source": [
    "# Geração de vizinhos\n",
    "function generate_neighbor(assignment, m)\n",
    "    n = length(assignment)\n",
    "    new_assignment = copy(assignment)\n",
    "    \n",
    "    i = rand(1:n)\n",
    "    current_worker = assignment[i]\n",
    "    \n",
    "    start = i\n",
    "    while start > 1 && assignment[start-1] == current_worker\n",
    "        start -= 1\n",
    "    end\n",
    "    stop = i\n",
    "    while stop < n && assignment[stop+1] == current_worker\n",
    "        stop += 1\n",
    "    end\n",
    "    \n",
    "    if rand() < 0.5 && (stop - start + 1) > 1\n",
    "        if i - start > 0 && stop - i > 0\n",
    "            split_point = i\n",
    "            new_worker = rand(setdiff(1:m, [current_worker]))\n",
    "            new_assignment[split_point+1:stop] .= new_worker\n",
    "        else\n",
    "            new_worker = rand(setdiff(1:m, [current_worker]))\n",
    "            new_assignment[start:stop] .= new_worker\n",
    "        end\n",
    "    else\n",
    "        new_worker = rand(setdiff(1:m, [current_worker]))\n",
    "        new_assignment[start:stop] .= new_worker\n",
    "    end\n",
    "    \n",
    "    if !is_valid_assignment(new_assignment, m)\n",
    "        return assignment\n",
    "    end\n",
    "    \n",
    "    return new_assignment\n",
    "end"
   ]
  },
  {
   "cell_type": "code",
   "execution_count": 8,
   "id": "a91e0bcf-96cb-4b4f-a6f1-84ee0a7eebd7",
   "metadata": {},
   "outputs": [
    {
     "data": {
      "text/plain": [
       "simulated_annealing (generic function with 1 method)"
      ]
     },
     "execution_count": 8,
     "metadata": {},
     "output_type": "execute_result"
    }
   ],
   "source": [
    "# Algoritmo Simulated Annealing\n",
    "function simulated_annealing(production_times, n, m; max_iter=10000, initial_temp=100.0, cooling_rate=0.995)\n",
    "    current_solution = generate_initial_solution(n, m)\n",
    "    current_cost = calculate_max_workload(current_solution, production_times, n, m)\n",
    "    \n",
    "    best_solution = copy(current_solution)\n",
    "    best_cost = current_cost\n",
    "    \n",
    "    temp = initial_temp\n",
    "    costs = Float64[]\n",
    "    \n",
    "    for iter in 1:max_iter\n",
    "        new_solution = generate_neighbor(current_solution, m)\n",
    "        new_cost = calculate_max_workload(new_solution, production_times, n, m)\n",
    "        \n",
    "        delta_cost = new_cost - current_cost\n",
    "        \n",
    "        if delta_cost < 0 || rand() < exp(-delta_cost / temp)\n",
    "            current_solution = new_solution\n",
    "            current_cost = new_cost\n",
    "            \n",
    "            if current_cost < best_cost\n",
    "                best_solution = copy(current_solution)\n",
    "                best_cost = current_cost\n",
    "            end\n",
    "        end\n",
    "        \n",
    "        push!(costs, best_cost)\n",
    "        temp *= cooling_rate\n",
    "        \n",
    "        if iter % 1000 == 0\n",
    "            temp = initial_temp * 0.5\n",
    "        end\n",
    "    end\n",
    "    \n",
    "    return best_solution, best_cost, costs\n",
    "end"
   ]
  },
  {
   "cell_type": "code",
   "execution_count": null,
   "id": "8180fb58-ff89-42b1-bb52-9f419a1f2844",
   "metadata": {},
   "outputs": [],
   "source": [
    "# Execução e visualização\n",
    "Random.seed!(123)  # Para reprodutibilidade\n",
    "best_solution, best_cost, cost_history = simulated_annealing(\n",
    "    production_times, n, m, \n",
    "    max_iter=12000000, \n",
    "    initial_temp=350.0,\n",
    "    cooling_rate=0.3\n",
    ")\n",
    "\n",
    "# Plot da convergência\n",
    "plot(1:length(cost_history), cost_history, \n",
    "    xlabel=\"Iteration\", ylabel=\"Best Cost\", \n",
    "    label=\"Maximum Workload\", title=\"Simulated Annealing Convergence\")"
   ]
  },
  {
   "cell_type": "code",
   "execution_count": null,
   "id": "50409f2e-f5e7-4944-9cfc-665681f2476d",
   "metadata": {},
   "outputs": [],
   "source": [
    "# Resultados\n",
    "println(\"Maximum workload (T): \", best_cost)\n",
    "\n",
    "for j in 1:m\n",
    "    assigned_tasks = findall(x -> x == j, best_solution)\n",
    "    if !isempty(assigned_tasks)\n",
    "        workload = sum(production_times[j, i] for i in assigned_tasks)\n",
    "        println(\"Worker $j: Tasks \", assigned_tasks, \" | Workload: \", round(workload, digits=4))\n",
    "    else\n",
    "        println(\"Worker $j: No tasks assigned\")\n",
    "    end\n",
    "end"
   ]
  },
  {
   "cell_type": "code",
   "execution_count": null,
   "id": "90202fa2-905f-436f-9ef4-af9904dfb13d",
   "metadata": {},
   "outputs": [],
   "source": [
    "# Visualização da atribuição\n",
    "assignment_plot = bar(best_solution, \n",
    "    xlabel=\"Task Number\", ylabel=\"Worker\", \n",
    "    title=\"Task Assignment to Workers\", legend=false)"
   ]
  }
 ],
 "metadata": {
  "kernelspec": {
   "display_name": "Julia 1.11.5",
   "language": "julia",
   "name": "julia-1.11"
  },
  "language_info": {
   "file_extension": ".jl",
   "mimetype": "application/julia",
   "name": "julia",
   "version": "1.11.5"
  }
 },
 "nbformat": 4,
 "nbformat_minor": 5
}
