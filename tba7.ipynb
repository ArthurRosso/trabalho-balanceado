{
 "cells": [
  {
   "cell_type": "code",
   "execution_count": 1,
   "id": "86d4cc39-de15-44aa-a8e0-c16106c17766",
   "metadata": {},
   "outputs": [
    {
     "name": "stderr",
     "output_type": "stream",
     "text": [
      "\u001b[32m\u001b[1m   Resolving\u001b[22m\u001b[39m package versions...\n",
      "\u001b[32m\u001b[1m  No Changes\u001b[22m\u001b[39m to `~/.julia/environments/v1.11/Project.toml`\n",
      "\u001b[32m\u001b[1m  No Changes\u001b[22m\u001b[39m to `~/.julia/environments/v1.11/Manifest.toml`\n",
      "\u001b[32m\u001b[1m   Resolving\u001b[22m\u001b[39m package versions...\n",
      "\u001b[32m\u001b[1m  No Changes\u001b[22m\u001b[39m to `~/.julia/environments/v1.11/Project.toml`\n",
      "\u001b[32m\u001b[1m  No Changes\u001b[22m\u001b[39m to `~/.julia/environments/v1.11/Manifest.toml`\n",
      "\u001b[32m\u001b[1m   Resolving\u001b[22m\u001b[39m package versions...\n",
      "\u001b[32m\u001b[1m  No Changes\u001b[22m\u001b[39m to `~/.julia/environments/v1.11/Project.toml`\n",
      "\u001b[32m\u001b[1m  No Changes\u001b[22m\u001b[39m to `~/.julia/environments/v1.11/Manifest.toml`\n"
     ]
    }
   ],
   "source": [
    "import Pkg; Pkg.add(\"JuMP\");  Pkg.add(\"GLPK\");  Pkg.add(\"DelimitedFiles\"); "
   ]
  },
  {
   "cell_type": "code",
   "execution_count": 2,
   "id": "2167a91f-c3a4-4e32-9623-643d3df85afc",
   "metadata": {},
   "outputs": [],
   "source": [
    "using JuMP          # Modeling language for optimization\n",
    "using GLPK          # Open-source solver for linear programming"
   ]
  },
  {
   "cell_type": "code",
   "execution_count": 3,
   "id": "3663cb1c-dfba-4dc2-80e5-403829b0026c",
   "metadata": {},
   "outputs": [
    {
     "data": {
      "text/plain": [
       "14"
      ]
     },
     "execution_count": 3,
     "metadata": {},
     "output_type": "execute_result"
    }
   ],
   "source": [
    "# Dados do problema\n",
    "n = 32  # número de operações\n",
    "m = 14  # número de trabalhadores"
   ]
  },
  {
   "cell_type": "code",
   "execution_count": 4,
   "id": "7b5723d2-4585-4f74-9c92-ee662f6b3737",
   "metadata": {},
   "outputs": [
    {
     "data": {
      "text/plain": [
       "14×32 Matrix{Float64}:\n",
       " 0.394455  0.887469  0.059056  0.630017  …  0.290624  0.844265  0.075421\n",
       " 0.175642  0.138501  0.989093  0.1          0.469208  0.444131  0.060578\n",
       " 0.491818  1.04172   0.366432  0.463663     0.044223  0.495571  0.275243\n",
       " 0.15206   0.564769  0.609526  0.641453     0.287839  0.167807  0.849978\n",
       " 0.70286   0.1       0.582303  0.311126     0.035892  0.1       0.083834\n",
       " 0.1       0.772797  0.625066  0.467431  …  0.349081  0.379292  0.1\n",
       " 1.32362   0.283758  0.762827  0.1          0.250313  1.82929   0.560429\n",
       " 0.968449  0.005319  1.50247   0.017305     0.428449  0.351001  0.1\n",
       " 0.501568  0.831582  1.05215   0.891741     0.699732  1.08499   0.391246\n",
       " 0.416857  1.10516   0.502641  0.501636     0.4591    0.605081  0.1\n",
       " 0.692023  0.703051  0.1       0.493539  …  0.054939  0.241175  0.479627\n",
       " 0.425164  1.25786   0.1       0.740668     0.747816  0.138316  0.138855\n",
       " 0.240873  0.591146  0.711213  0.33902      0.194942  0.161233  0.658101\n",
       " 0.390067  0.455697  1.35369   0.623134     0.39771   0.880639  0.823773"
      ]
     },
     "execution_count": 4,
     "metadata": {},
     "output_type": "execute_result"
    }
   ],
   "source": [
    "production_times = [\n",
    "    0.394455 0.887469 0.059056 0.630017 0.192982 0.309118 0.347316 0.356712 1.480903 1.244382 0.593374 0.804714 0.185590 0.472639 0.526727 0.669363 0.175841 0.631347 0.425798 0.901230 0.550198 0.287530 0.748237 0.073036 0.557304 0.218358 0.375037 0.215329 0.184584 0.290624 0.844265 0.075421 \n",
    "    0.175642 0.138501 0.989093 0.100000 0.046554 0.100000 0.100000 0.520904 1.317292 1.336659 0.899442 0.307156 0.478133 0.100000 0.771518 0.788452 0.814638 0.535061 0.306833 0.100000 0.372234 0.384788 0.100000 0.786044 0.634378 0.433438 1.071173 0.100000 0.117785 0.469208 0.444131 0.060578 \n",
    "    0.491818 1.041722 0.366432 0.463663 0.503861 0.100000 0.334810 0.466481 0.335455 0.210806 0.100000 0.808876 0.140211 0.311972 0.679312 0.509171 0.100000 0.339150 0.890086 0.419357 0.576498 0.135279 0.169215 0.236398 0.289106 0.051084 0.093069 0.454653 0.040544 0.044223 0.495571 0.275243 \n",
    "    0.152060 0.564769 0.609526 0.641453 0.471718 0.361538 0.596131 0.275872 0.123922 1.257859 0.230196 0.339581 0.479209 0.793445 0.161461 0.661456 0.864926 0.538613 0.616115 0.637031 0.179539 1.062452 0.533542 0.194476 0.118978 0.178660 0.954042 0.461457 0.912611 0.287839 0.167807 0.849978 \n",
    "    0.702860 0.100000 0.582303 0.311126 0.246378 0.015724 0.103491 0.100000 1.185220 0.787430 0.100000 0.100000 0.100000 0.891934 1.224721 0.496911 0.631752 0.947047 0.100000 0.531682 0.705449 0.828490 0.265224 0.100000 0.079252 0.619900 1.466792 0.419110 0.100000 0.035892 0.100000 0.083834 \n",
    "    0.100000 0.772797 0.625066 0.467431 0.254559 0.100000 0.357131 0.647448 0.345371 0.575543 0.100000 0.369325 0.100000 0.100000 0.301792 0.480311 0.196490 0.055209 0.397203 0.627999 0.481369 0.016959 0.297014 0.117415 0.773319 0.100000 0.618367 0.469299 0.231496 0.349081 0.379292 0.100000 \n",
    "    1.323624 0.283758 0.762827 0.100000 0.487584 0.479639 0.280230 0.635129 1.074527 0.912477 0.899896 1.001921 0.548699 0.100000 0.100000 0.789036 0.100000 1.061424 0.289565 0.590118 0.732408 0.100000 0.354167 0.638481 1.293346 0.100000 0.219919 0.188593 0.688738 0.250313 1.829285 0.560429 \n",
    "    0.968449 0.005319 1.502469 0.017305 0.581375 0.100000 0.772587 0.428938 0.337353 0.742352 0.217709 0.510060 0.132199 0.615168 0.846812 0.184614 0.617952 0.637964 0.071788 0.797156 0.303474 0.116420 0.100000 0.051611 0.730077 0.449382 1.039248 0.015841 0.100000 0.428449 0.351001 0.100000 \n",
    "    0.501568 0.831582 1.052152 0.891741 0.194699 0.019053 0.397246 0.401026 1.173963 0.497298 0.342927 0.117926 0.919601 0.689348 1.079065 1.046354 0.100000 0.312415 0.489932 0.693381 0.577590 0.155443 0.100000 0.696266 0.887702 0.506390 0.106709 0.363311 0.581033 0.699732 1.084987 0.391246 \n",
    "    0.416857 1.105155 0.502641 0.501636 0.192490 0.065014 1.140042 0.905681 0.709029 0.438350 0.100000 0.279268 0.781009 0.293687 0.601738 0.713376 0.221829 0.884528 0.852070 0.639786 0.100000 0.182462 0.899737 0.558000 0.338634 0.338584 0.216920 0.490104 0.121888 0.459100 0.605081 0.100000 \n",
    "    0.692023 0.703051 0.100000 0.493539 0.504104 0.100000 0.603327 0.100000 0.063652 0.871094 0.735658 0.429101 0.470496 0.014040 0.340105 0.364202 0.100000 0.386374 0.657068 0.602427 0.451308 0.100000 0.078635 0.649230 0.494453 0.100000 0.915078 0.100000 1.221627 0.054939 0.241175 0.479627 \n",
    "    0.425164 1.257863 0.100000 0.740668 0.100000 1.157179 0.888621 0.521177 1.169033 0.100000 0.100000 0.493194 0.990943 0.627544 0.607544 1.114142 0.100000 0.795785 0.100000 0.941198 1.105178 0.373278 0.930544 0.536590 0.100000 0.704848 1.309884 0.831666 0.559446 0.747816 0.138316 0.138855 \n",
    "    0.240873 0.591146 0.711213 0.339020 0.936425 0.394629 0.338113 0.100000 0.285101 0.617951 0.100000 0.554995 0.304907 0.018462 0.442478 0.100000 0.082952 0.188861 0.517139 0.960084 0.187193 0.100000 0.012574 0.040193 0.033629 0.621127 0.745115 0.044945 0.643159 0.194942 0.161233 0.658101 \n",
    "    0.390067 0.455697 1.353690 0.623134 0.803194 0.100000 0.433356 0.262178 0.133002 0.308981 0.423883 0.382316 0.353663 0.283399 0.745939 0.887463 0.366587 0.285726 0.632973 0.384544 1.271791 0.599024 0.141999 0.100000 0.327378 0.766905 1.076373 0.546487 1.032184 0.397710 0.880639 0.823773\n",
    "]"
   ]
  },
  {
   "cell_type": "code",
   "execution_count": 5,
   "id": "cd41bbba-1f43-428b-aca9-aeff233028ae",
   "metadata": {},
   "outputs": [
    {
     "data": {
      "text/plain": [
       "A JuMP Model\n",
       "├ solver: GLPK\n",
       "├ objective_sense: FEASIBILITY_SENSE\n",
       "├ num_variables: 0\n",
       "├ num_constraints: 0\n",
       "└ Names registered in the model: none"
      ]
     },
     "execution_count": 5,
     "metadata": {},
     "output_type": "execute_result"
    }
   ],
   "source": [
    "model = Model(GLPK.Optimizer)"
   ]
  },
  {
   "cell_type": "code",
   "execution_count": 6,
   "id": "2e70eb49-6f72-4951-9051-ca5730acf3d7",
   "metadata": {},
   "outputs": [
    {
     "data": {
      "text/latex": [
       "$ T $"
      ],
      "text/plain": [
       "T"
      ]
     },
     "execution_count": 6,
     "metadata": {},
     "output_type": "execute_result"
    }
   ],
   "source": [
    "# Variables\n",
    "@variable(model, x[1:n, 1:m], Bin)  # Assignment of tasks to workers\n",
    "@variable(model, b[1:n, 1:m], Bin)  # Start of a block for a worker\n",
    "@variable(model, e[1:n, 1:m], Bin)  # End of a block for a worker\n",
    "@variable(model, T >= 0)  # Maximum workload"
   ]
  },
  {
   "cell_type": "code",
   "execution_count": 7,
   "id": "3d921dcd-2b9c-4484-95ea-16b3a2655cdb",
   "metadata": {},
   "outputs": [
    {
     "data": {
      "text/latex": [
       "$ T $"
      ],
      "text/plain": [
       "T"
      ]
     },
     "execution_count": 7,
     "metadata": {},
     "output_type": "execute_result"
    }
   ],
   "source": [
    "@objective(model, Min, T)"
   ]
  },
  {
   "cell_type": "code",
   "execution_count": 8,
   "id": "18084521-52c6-494f-84f5-c3b21eadb910",
   "metadata": {},
   "outputs": [],
   "source": [
    "for i in 1:n\n",
    "    @constraint(model, sum(x[i, j] for j in 1:m) == 1)\n",
    "end"
   ]
  },
  {
   "cell_type": "code",
   "execution_count": 9,
   "id": "e6b23ae0-798e-4fd4-b1a7-5ff6ce9802c9",
   "metadata": {},
   "outputs": [],
   "source": [
    "# Contiguity constraints: Each worker has exactly one contiguous block\n",
    "for j in 1:m\n",
    "    # Exactly one start and one end per worker\n",
    "    @constraint(model, sum(b[i, j] for i in 1:n) == 1)\n",
    "    @constraint(model, sum(e[i, j] for i in 1:n) == 1)\n",
    "    \n",
    "    # Start position definition\n",
    "    for i in 1:n\n",
    "        # Handle boundary cases (i=1 and i=num_operations)\n",
    "        prev_x = (i == 1) ? 0 : x[i-1, j]\n",
    "        next_x = (i == n) ? 0 : x[i+1, j]\n",
    "        \n",
    "        # d[i,j] = 1 if x[i,j] = 1 and x[i-1,j] = 0\n",
    "        @constraint(model, b[i, j] >= x[i, j] - prev_x)\n",
    "        @constraint(model, b[i, j] <= x[i, j])\n",
    "        @constraint(model, b[i, j] <= 1 - prev_x)\n",
    "        \n",
    "        # e[i,j] = 1 if x[i,j] = 1 and x[i+1,j] = 0\n",
    "        @constraint(model, e[i, j] >= x[i, j] - next_x)\n",
    "        @constraint(model, e[i, j] <= x[i, j])\n",
    "        @constraint(model, e[i, j] <= 1 - next_x)\n",
    "    end\n",
    "end"
   ]
  },
  {
   "cell_type": "code",
   "execution_count": 10,
   "id": "c3fd2faa-fe62-4f59-8405-1bca7fa3ae78",
   "metadata": {},
   "outputs": [],
   "source": [
    "# Workload constraints: T >= sum of production times for each worker\n",
    "for j in 1:m\n",
    "    @constraint(model, T >= sum(production_times[j, i] * x[i, j] for i in 1:n))\n",
    "end"
   ]
  },
  {
   "cell_type": "code",
   "execution_count": 11,
   "id": "5f1388ef-ab70-430b-b527-18c983c9a386",
   "metadata": {},
   "outputs": [
    {
     "ename": "LoadError",
     "evalue": "InterruptException:",
     "output_type": "error",
     "traceback": [
      "InterruptException:",
      "",
      "Stacktrace:",
      " [1] glp_intopt",
      "   @ ~/.julia/packages/GLPK/2y5V8/src/gen/libglpk_api.jl:342 [inlined]",
      " [2] _solve_mip_problem(model::GLPK.Optimizer)",
      "   @ GLPK ~/.julia/packages/GLPK/2y5V8/src/MOI_wrapper/MOI_wrapper.jl:1399",
      " [3] optimize!(model::GLPK.Optimizer)",
      "   @ GLPK ~/.julia/packages/GLPK/2y5V8/src/MOI_wrapper/MOI_wrapper.jl:1457",
      " [4] optimize!",
      "   @ ~/.julia/packages/MathOptInterface/ej37q/src/Bridges/bridge_optimizer.jl:367 [inlined]",
      " [5] optimize!",
      "   @ ~/.julia/packages/MathOptInterface/ej37q/src/MathOptInterface.jl:122 [inlined]",
      " [6] optimize!(m::MathOptInterface.Utilities.CachingOptimizer{MathOptInterface.Bridges.LazyBridgeOptimizer{GLPK.Optimizer}, MathOptInterface.Utilities.UniversalFallback{MathOptInterface.Utilities.Model{Float64}}})",
      "   @ MathOptInterface.Utilities ~/.julia/packages/MathOptInterface/ej37q/src/Utilities/cachingoptimizer.jl:370",
      " [7] optimize!(model::Model; ignore_optimize_hook::Bool, _differentiation_backend::MathOptInterface.Nonlinear.SparseReverseMode, kwargs::@Kwargs{})",
      "   @ JuMP ~/.julia/packages/JuMP/LKjRR/src/optimizer_interface.jl:609",
      " [8] optimize!(model::Model)",
      "   @ JuMP ~/.julia/packages/JuMP/LKjRR/src/optimizer_interface.jl:560"
     ]
    }
   ],
   "source": [
    "optimize!(model)"
   ]
  },
  {
   "cell_type": "code",
   "execution_count": 12,
   "id": "e49b2ada-915f-4c07-9ccb-8079058fff26",
   "metadata": {},
   "outputs": [
    {
     "name": "stderr",
     "output_type": "stream",
     "text": [
      "\u001b[33m\u001b[1m┌ \u001b[22m\u001b[39m\u001b[33m\u001b[1mWarning: \u001b[22m\u001b[39mThe model has been modified since the last call to `optimize!` (or `optimize!` has not been called yet). If you are iteratively querying solution information and modifying a model, query all the results first, then modify the model.\n",
      "\u001b[33m\u001b[1m└ \u001b[22m\u001b[39m\u001b[90m@ JuMP ~/.julia/packages/JuMP/LKjRR/src/optimizer_interface.jl:1211\u001b[39m\n"
     ]
    },
    {
     "ename": "LoadError",
     "evalue": "OptimizeNotCalled()",
     "output_type": "error",
     "traceback": [
      "OptimizeNotCalled()",
      "",
      "Stacktrace:",
      " [1] get(model::Model, attr::MathOptInterface.ObjectiveValue)",
      "   @ JuMP ~/.julia/packages/JuMP/LKjRR/src/optimizer_interface.jl:1217",
      " [2] objective_value(model::Model; result::Int64)",
      "   @ JuMP ~/.julia/packages/JuMP/LKjRR/src/objective.jl:122",
      " [3] objective_value(model::Model)",
      "   @ JuMP ~/.julia/packages/JuMP/LKjRR/src/objective.jl:118",
      " [4] top-level scope",
      "   @ In[12]:1"
     ]
    }
   ],
   "source": [
    "println(\"Maximum workload (T): \", objective_value(model))\n",
    "\n",
    "# Print assignments\n",
    "for j in 1:m\n",
    "    assigned_tasks = [i for i in 1:n if value(x[i, j]) > 0.5]\n",
    "    if !isempty(assigned_tasks)\n",
    "        println(\"Worker $j: Tasks \", assigned_tasks, \" | Workload: \", sum(production_times[j, i] for i in assigned_tasks))\n",
    "    end\n",
    "end"
   ]
  }
 ],
 "metadata": {
  "kernelspec": {
   "display_name": "Julia 1.11.5",
   "language": "julia",
   "name": "julia-1.11"
  },
  "language_info": {
   "file_extension": ".jl",
   "mimetype": "application/julia",
   "name": "julia",
   "version": "1.11.5"
  }
 },
 "nbformat": 4,
 "nbformat_minor": 5
}
