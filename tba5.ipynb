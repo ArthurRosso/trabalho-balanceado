{
 "cells": [
  {
   "cell_type": "code",
   "execution_count": 1,
   "id": "86d4cc39-de15-44aa-a8e0-c16106c17766",
   "metadata": {},
   "outputs": [
    {
     "name": "stderr",
     "output_type": "stream",
     "text": [
      "\u001b[32m\u001b[1m   Resolving\u001b[22m\u001b[39m package versions...\n",
      "\u001b[32m\u001b[1m  No Changes\u001b[22m\u001b[39m to `~/.julia/environments/v1.11/Project.toml`\n",
      "\u001b[32m\u001b[1m  No Changes\u001b[22m\u001b[39m to `~/.julia/environments/v1.11/Manifest.toml`\n",
      "\u001b[32m\u001b[1m   Resolving\u001b[22m\u001b[39m package versions...\n",
      "\u001b[32m\u001b[1m  No Changes\u001b[22m\u001b[39m to `~/.julia/environments/v1.11/Project.toml`\n",
      "\u001b[32m\u001b[1m  No Changes\u001b[22m\u001b[39m to `~/.julia/environments/v1.11/Manifest.toml`\n"
     ]
    }
   ],
   "source": [
    "import Pkg; Pkg.add(\"JuMP\");  Pkg.add(\"GLPK\");"
   ]
  },
  {
   "cell_type": "code",
   "execution_count": 2,
   "id": "2167a91f-c3a4-4e32-9623-643d3df85afc",
   "metadata": {},
   "outputs": [],
   "source": [
    "using JuMP          # Modeling language for optimization\n",
    "using GLPK          # Open-source solver for linear programming"
   ]
  },
  {
   "cell_type": "code",
   "execution_count": 3,
   "id": "3663cb1c-dfba-4dc2-80e5-403829b0026c",
   "metadata": {},
   "outputs": [
    {
     "data": {
      "text/plain": [
       "10"
      ]
     },
     "execution_count": 3,
     "metadata": {},
     "output_type": "execute_result"
    }
   ],
   "source": [
    "# Dados do problema\n",
    "n = 42  # número de operações\n",
    "m = 10  # número de trabalhadores"
   ]
  },
  {
   "cell_type": "code",
   "execution_count": 4,
   "id": "7b5723d2-4585-4f74-9c92-ee662f6b3737",
   "metadata": {},
   "outputs": [
    {
     "data": {
      "text/plain": [
       "10×42 Matrix{Float64}:\n",
       " 0.824972  0.748855  0.985319  0.368152  …  0.730138  0.1       0.754547\n",
       " 0.1       0.1       0.850774  0.87226      1.14418   0.270404  0.1\n",
       " 0.894116  0.143745  0.042561  0.609144     0.2443    0.559528  0.352028\n",
       " 0.535348  0.1       0.08875   0.550408     0.659336  0.383587  0.1\n",
       " 0.37551   0.1       0.1       0.973676     0.735372  0.212469  0.80773\n",
       " 0.253857  0.445623  0.505591  0.634472  …  0.820106  0.499168  0.1\n",
       " 1.24171   0.411287  0.238223  0.395653     0.1       0.869887  0.9775\n",
       " 0.426756  0.1       0.16586   0.45645      0.001099  0.1       0.374444\n",
       " 0.1       0.566423  0.48405   0.679989     0.722237  0.387101  0.069993\n",
       " 0.1       0.073973  0.500032  0.084874     0.146923  0.1       0.299229"
      ]
     },
     "execution_count": 4,
     "metadata": {},
     "output_type": "execute_result"
    }
   ],
   "source": [
    "production_times = [\n",
    "    0.824972 0.748855 0.985319 0.368152 0.494423 1.352047 0.365010 1.477899 0.117156 0.164884 1.168871 0.286475 0.299580 0.506642 1.019126 0.156562 1.550568 0.663989 0.653186 0.529661 0.100000 0.611770 0.495251 0.869660 0.041371 0.558254 0.107564 0.783252 0.953264 0.567330 0.342755 0.197970 1.259813 0.681452 0.861444 0.917369 0.484125 0.085160 0.088678 0.730138 0.100000 0.754547 \n",
    "    0.100000 0.100000 0.850774 0.872260 0.581743 0.298839 1.144109 0.650960 1.123835 0.222335 0.880949 0.898076 0.215019 0.453726 0.865229 0.689777 0.637151 0.773566 1.314217 1.093563 0.100000 0.689749 0.324512 0.100000 0.821920 0.124092 0.509316 0.476336 1.650988 0.100000 0.419885 0.100000 1.372962 0.766863 0.100000 0.243731 0.297435 1.045586 1.572023 1.144180 0.270404 0.100000 \n",
    "    0.894116 0.143745 0.042561 0.609144 0.100000 0.100000 0.798137 1.095015 0.102034 0.682849 0.854231 0.753674 0.131011 0.292548 0.471175 0.614766 0.655073 0.561503 0.100000 0.434639 0.100000 0.638959 0.299925 0.937692 0.384593 0.100000 0.100000 0.417338 0.575980 0.100000 0.299497 0.100000 1.002387 0.850871 0.185761 0.134252 0.100000 0.899535 0.698389 0.244300 0.559528 0.352028 \n",
    "    0.535348 0.100000 0.088750 0.550408 1.022337 0.552360 0.326791 0.911376 0.069824 1.133790 0.037736 0.542586 1.032420 0.254768 0.852856 0.514424 0.604272 0.848203 0.100000 0.613280 0.100000 0.629088 0.050542 0.536960 0.004763 0.860313 0.395858 0.283070 0.100000 0.299935 0.554562 0.065988 1.263242 0.100000 1.060334 0.540585 0.100000 0.100000 0.399530 0.659336 0.383587 0.100000 \n",
    "    0.375510 0.100000 0.100000 0.973676 0.100000 0.076413 0.230734 0.992201 0.100000 0.100000 1.470864 0.952046 1.223138 0.562517 0.325127 1.200134 0.604143 0.174244 0.339153 1.235328 0.100000 0.100000 0.747576 0.100000 0.100000 0.324085 0.100000 0.832647 0.534109 0.556055 0.397129 0.313009 1.010865 0.122663 0.296786 0.711442 0.569859 0.480454 0.424974 0.735372 0.212469 0.807730 \n",
    "    0.253857 0.445623 0.505591 0.634472 0.100000 0.294177 0.387532 0.100000 0.100000 0.607924 0.835065 0.265243 0.100000 0.409799 0.637082 0.100000 0.848454 0.100000 0.578866 0.100000 0.232893 0.498980 0.308330 0.812449 0.079669 0.884524 0.100000 0.337672 0.447057 0.156672 0.857158 0.100000 0.568384 0.100000 0.662403 0.566868 2.061965 0.869289 0.100000 0.820106 0.499168 0.100000 \n",
    "    1.241708 0.411287 0.238223 0.395653 0.100000 0.100000 0.936979 0.220080 0.205308 0.572478 1.352376 0.552238 0.220584 1.024534 0.574103 0.218287 0.100000 0.100000 0.100000 1.200176 0.100000 0.933059 0.536454 2.045580 0.041700 0.789185 1.295710 0.620364 0.100000 0.100000 0.458513 0.100000 0.874109 0.478668 0.594506 0.229283 0.692941 0.476497 0.953956 0.100000 0.869887 0.977500 \n",
    "    0.426756 0.100000 0.165860 0.456450 0.100000 0.100000 0.666598 0.100000 0.475684 0.527811 0.171359 0.261725 0.100000 1.014117 0.986371 0.100000 0.714449 0.100000 0.731452 0.263199 0.211229 0.100000 0.836487 0.134902 0.691623 0.100000 0.567231 0.507526 1.216192 0.184252 0.482263 0.100000 1.721344 0.100000 0.042550 1.371902 0.100000 0.116663 1.287267 0.001099 0.100000 0.374444 \n",
    "    0.100000 0.566423 0.484050 0.679989 0.100000 0.100000 0.833016 0.100000 0.173963 0.100000 0.723740 0.388600 0.163106 0.503850 1.425759 0.210710 0.838725 0.100000 0.983289 0.500409 0.100000 0.886672 0.841904 0.110103 0.688876 0.824044 0.598258 0.445340 0.592687 0.403196 0.572549 0.732552 0.749755 0.862013 0.100000 0.100000 0.115333 1.015375 0.898168 0.722237 0.387101 0.069993 \n",
    "    0.100000 0.073973 0.500032 0.084874 0.482922 0.056343 0.268271 0.677015 0.342105 0.104008 0.100000 0.589934 0.867905 0.100000 0.780094 0.859836 0.823127 0.483041 0.100000 0.489803 0.100000 1.092856 0.442385 0.433423 0.448439 0.100000 0.100000 0.369570 0.948891 0.178382 0.100000 0.100000 1.153027 1.263044 0.100000 0.148087 0.769704 0.392272 0.185973 0.146923 0.100000 0.299229 \n",
    "]"
   ]
  },
  {
   "cell_type": "code",
   "execution_count": 5,
   "id": "cd41bbba-1f43-428b-aca9-aeff233028ae",
   "metadata": {},
   "outputs": [
    {
     "data": {
      "text/plain": [
       "A JuMP Model\n",
       "├ solver: GLPK\n",
       "├ objective_sense: FEASIBILITY_SENSE\n",
       "├ num_variables: 0\n",
       "├ num_constraints: 0\n",
       "└ Names registered in the model: none"
      ]
     },
     "execution_count": 5,
     "metadata": {},
     "output_type": "execute_result"
    }
   ],
   "source": [
    "model = Model(GLPK.Optimizer)"
   ]
  },
  {
   "cell_type": "code",
   "execution_count": 6,
   "id": "2e70eb49-6f72-4951-9051-ca5730acf3d7",
   "metadata": {},
   "outputs": [
    {
     "data": {
      "text/latex": [
       "$ T $"
      ],
      "text/plain": [
       "T"
      ]
     },
     "execution_count": 6,
     "metadata": {},
     "output_type": "execute_result"
    }
   ],
   "source": [
    "# Variables\n",
    "@variable(model, x[1:n, 1:m], Bin)  # Assignment of tasks to workers\n",
    "@variable(model, b[1:n, 1:m], Bin)  # Start of a block for a worker\n",
    "@variable(model, e[1:n, 1:m], Bin)  # End of a block for a worker\n",
    "@variable(model, T >= 0)  # Maximum workload"
   ]
  },
  {
   "cell_type": "code",
   "execution_count": 7,
   "id": "3d921dcd-2b9c-4484-95ea-16b3a2655cdb",
   "metadata": {},
   "outputs": [
    {
     "data": {
      "text/latex": [
       "$ T $"
      ],
      "text/plain": [
       "T"
      ]
     },
     "execution_count": 7,
     "metadata": {},
     "output_type": "execute_result"
    }
   ],
   "source": [
    "@objective(model, Min, T)"
   ]
  },
  {
   "cell_type": "code",
   "execution_count": 8,
   "id": "18084521-52c6-494f-84f5-c3b21eadb910",
   "metadata": {},
   "outputs": [],
   "source": [
    "for i in 1:n\n",
    "    @constraint(model, sum(x[i, j] for j in 1:m) == 1)\n",
    "end"
   ]
  },
  {
   "cell_type": "code",
   "execution_count": 9,
   "id": "e6b23ae0-798e-4fd4-b1a7-5ff6ce9802c9",
   "metadata": {},
   "outputs": [],
   "source": [
    "# Contiguity constraints: Each worker has exactly one contiguous block\n",
    "for j in 1:m\n",
    "    # Exactly one start and one end per worker\n",
    "    @constraint(model, sum(b[i, j] for i in 1:n) == 1)\n",
    "    @constraint(model, sum(e[i, j] for i in 1:n) == 1)\n",
    "    \n",
    "    # Start position definition\n",
    "    for i in 1:n\n",
    "        # Handle boundary cases (i=1 and i=num_operations)\n",
    "        prev_x = (i == 1) ? 0 : x[i-1, j]\n",
    "        next_x = (i == n) ? 0 : x[i+1, j]\n",
    "        \n",
    "        # d[i,j] = 1 if x[i,j] = 1 and x[i-1,j] = 0\n",
    "        @constraint(model, b[i, j] >= x[i, j] - prev_x)\n",
    "        @constraint(model, b[i, j] <= x[i, j])\n",
    "        @constraint(model, b[i, j] <= 1 - prev_x)\n",
    "        \n",
    "        # e[i,j] = 1 if x[i,j] = 1 and x[i+1,j] = 0\n",
    "        @constraint(model, e[i, j] >= x[i, j] - next_x)\n",
    "        @constraint(model, e[i, j] <= x[i, j])\n",
    "        @constraint(model, e[i, j] <= 1 - next_x)\n",
    "    end\n",
    "end"
   ]
  },
  {
   "cell_type": "code",
   "execution_count": 10,
   "id": "e0bc4a60-8b87-4b56-98cd-67c51d7716ba",
   "metadata": {},
   "outputs": [],
   "source": [
    "#for j in 1:m\n",
    "#    for i in 1:n\n",
    "#        @constraint(model, b[i, j] + e[i, j] <= 1)\n",
    "#    end\n",
    "#end"
   ]
  },
  {
   "cell_type": "code",
   "execution_count": 11,
   "id": "c3fd2faa-fe62-4f59-8405-1bca7fa3ae78",
   "metadata": {},
   "outputs": [],
   "source": [
    "# Workload constraints: T >= sum of production times for each worker\n",
    "for j in 1:m\n",
    "    @constraint(model, T >= sum(production_times[j, i] * x[i, j] for i in 1:n))\n",
    "end"
   ]
  },
  {
   "cell_type": "code",
   "execution_count": 12,
   "id": "5f1388ef-ab70-430b-b527-18c983c9a386",
   "metadata": {},
   "outputs": [
    {
     "ename": "LoadError",
     "evalue": "InterruptException:",
     "output_type": "error",
     "traceback": [
      "InterruptException:",
      "",
      "Stacktrace:",
      " [1] glp_intopt",
      "   @ ~/.julia/packages/GLPK/2y5V8/src/gen/libglpk_api.jl:342 [inlined]",
      " [2] _solve_mip_problem(model::GLPK.Optimizer)",
      "   @ GLPK ~/.julia/packages/GLPK/2y5V8/src/MOI_wrapper/MOI_wrapper.jl:1399",
      " [3] optimize!(model::GLPK.Optimizer)",
      "   @ GLPK ~/.julia/packages/GLPK/2y5V8/src/MOI_wrapper/MOI_wrapper.jl:1457",
      " [4] optimize!",
      "   @ ~/.julia/packages/MathOptInterface/ej37q/src/Bridges/bridge_optimizer.jl:367 [inlined]",
      " [5] optimize!",
      "   @ ~/.julia/packages/MathOptInterface/ej37q/src/MathOptInterface.jl:122 [inlined]",
      " [6] optimize!(m::MathOptInterface.Utilities.CachingOptimizer{MathOptInterface.Bridges.LazyBridgeOptimizer{GLPK.Optimizer}, MathOptInterface.Utilities.UniversalFallback{MathOptInterface.Utilities.Model{Float64}}})",
      "   @ MathOptInterface.Utilities ~/.julia/packages/MathOptInterface/ej37q/src/Utilities/cachingoptimizer.jl:370",
      " [7] optimize!(model::Model; ignore_optimize_hook::Bool, _differentiation_backend::MathOptInterface.Nonlinear.SparseReverseMode, kwargs::@Kwargs{})",
      "   @ JuMP ~/.julia/packages/JuMP/LKjRR/src/optimizer_interface.jl:609",
      " [8] optimize!(model::Model)",
      "   @ JuMP ~/.julia/packages/JuMP/LKjRR/src/optimizer_interface.jl:560"
     ]
    }
   ],
   "source": [
    "optimize!(model)"
   ]
  },
  {
   "cell_type": "code",
   "execution_count": 13,
   "id": "e49b2ada-915f-4c07-9ccb-8079058fff26",
   "metadata": {},
   "outputs": [
    {
     "name": "stderr",
     "output_type": "stream",
     "text": [
      "\u001b[33m\u001b[1m┌ \u001b[22m\u001b[39m\u001b[33m\u001b[1mWarning: \u001b[22m\u001b[39mThe model has been modified since the last call to `optimize!` (or `optimize!` has not been called yet). If you are iteratively querying solution information and modifying a model, query all the results first, then modify the model.\n",
      "\u001b[33m\u001b[1m└ \u001b[22m\u001b[39m\u001b[90m@ JuMP ~/.julia/packages/JuMP/LKjRR/src/optimizer_interface.jl:1211\u001b[39m\n"
     ]
    },
    {
     "ename": "LoadError",
     "evalue": "OptimizeNotCalled()",
     "output_type": "error",
     "traceback": [
      "OptimizeNotCalled()",
      "",
      "Stacktrace:",
      " [1] get(model::Model, attr::MathOptInterface.ObjectiveValue)",
      "   @ JuMP ~/.julia/packages/JuMP/LKjRR/src/optimizer_interface.jl:1217",
      " [2] objective_value(model::Model; result::Int64)",
      "   @ JuMP ~/.julia/packages/JuMP/LKjRR/src/objective.jl:122",
      " [3] objective_value(model::Model)",
      "   @ JuMP ~/.julia/packages/JuMP/LKjRR/src/objective.jl:118",
      " [4] top-level scope",
      "   @ In[13]:1"
     ]
    }
   ],
   "source": [
    "println(\"Maximum workload (T): \", objective_value(model))\n",
    "\n",
    "# Print assignments\n",
    "for j in 1:m\n",
    "    assigned_tasks = [i for i in 1:n if value(x[i, j]) > 0.5]\n",
    "    if !isempty(assigned_tasks)\n",
    "        println(\"Worker $j: Tasks \", assigned_tasks, \" | Workload: \", sum(production_times[j, i] for i in assigned_tasks))\n",
    "    end\n",
    "end"
   ]
  }
 ],
 "metadata": {
  "kernelspec": {
   "display_name": "Julia 1.11.5",
   "language": "julia",
   "name": "julia-1.11"
  },
  "language_info": {
   "file_extension": ".jl",
   "mimetype": "application/julia",
   "name": "julia",
   "version": "1.11.5"
  }
 },
 "nbformat": 4,
 "nbformat_minor": 5
}
