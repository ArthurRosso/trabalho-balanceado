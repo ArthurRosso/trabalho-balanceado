{
 "cells": [
  {
   "cell_type": "code",
   "execution_count": 1,
   "id": "86d4cc39-de15-44aa-a8e0-c16106c17766",
   "metadata": {},
   "outputs": [
    {
     "name": "stderr",
     "output_type": "stream",
     "text": [
      "\u001b[32m\u001b[1m   Resolving\u001b[22m\u001b[39m package versions...\n",
      "\u001b[32m\u001b[1m  No Changes\u001b[22m\u001b[39m to `~/.julia/environments/v1.11/Project.toml`\n",
      "\u001b[32m\u001b[1m  No Changes\u001b[22m\u001b[39m to `~/.julia/environments/v1.11/Manifest.toml`\n",
      "\u001b[32m\u001b[1m   Resolving\u001b[22m\u001b[39m package versions...\n",
      "\u001b[32m\u001b[1m  No Changes\u001b[22m\u001b[39m to `~/.julia/environments/v1.11/Project.toml`\n",
      "\u001b[32m\u001b[1m  No Changes\u001b[22m\u001b[39m to `~/.julia/environments/v1.11/Manifest.toml`\n",
      "\u001b[32m\u001b[1m   Resolving\u001b[22m\u001b[39m package versions...\n",
      "\u001b[32m\u001b[1m  No Changes\u001b[22m\u001b[39m to `~/.julia/environments/v1.11/Project.toml`\n",
      "\u001b[32m\u001b[1m  No Changes\u001b[22m\u001b[39m to `~/.julia/environments/v1.11/Manifest.toml`\n"
     ]
    }
   ],
   "source": [
    "import Pkg; Pkg.add(\"JuMP\");  Pkg.add(\"GLPK\");  Pkg.add(\"DelimitedFiles\"); "
   ]
  },
  {
   "cell_type": "code",
   "execution_count": 2,
   "id": "2167a91f-c3a4-4e32-9623-643d3df85afc",
   "metadata": {},
   "outputs": [],
   "source": [
    "using JuMP          # Modeling language for optimization\n",
    "using GLPK          # Open-source solver for linear programming"
   ]
  },
  {
   "cell_type": "code",
   "execution_count": 3,
   "id": "3663cb1c-dfba-4dc2-80e5-403829b0026c",
   "metadata": {},
   "outputs": [
    {
     "data": {
      "text/plain": [
       "13"
      ]
     },
     "execution_count": 3,
     "metadata": {},
     "output_type": "execute_result"
    }
   ],
   "source": [
    "# Dados do problema\n",
    "n = 27  # número de operações\n",
    "m = 13  # número de trabalhadores"
   ]
  },
  {
   "cell_type": "code",
   "execution_count": 4,
   "id": "7b5723d2-4585-4f74-9c92-ee662f6b3737",
   "metadata": {},
   "outputs": [
    {
     "data": {
      "text/plain": [
       "13×27 Matrix{Float64}:\n",
       " 0.983504  0.1       1.40676   0.1       …  0.98843   0.380578  0.655309\n",
       " 1.36869   0.080304  1.17108   0.1          0.374157  0.1       0.030227\n",
       " 0.415598  0.1       0.223786  0.812987     0.1       0.259707  0.554767\n",
       " 1.44214   0.695434  0.847604  0.851356     0.1       0.989782  0.607988\n",
       " 1.87598   0.007082  0.914191  0.895045     0.1       0.1       1.39261\n",
       " 1.42372   1.03917   0.505753  0.317895  …  0.376609  0.349205  0.1\n",
       " 1.07811   0.165136  0.1       0.098734     0.589275  0.1       0.62545\n",
       " 1.44967   0.45341   0.143044  0.979773     0.351666  0.1       0.1\n",
       " 0.982764  1.20989   1.18201   0.561607     0.1       0.092346  0.20338\n",
       " 0.943085  0.412107  0.1       0.24353      0.44628   0.1       0.1\n",
       " 0.472686  0.362074  0.061172  0.485909  …  0.137283  0.529766  1.02599\n",
       " 0.1       1.01946   0.696875  0.1          0.1       0.1       0.190612\n",
       " 0.590025  0.1       0.866239  0.281732     0.187214  0.430459  1.5135"
      ]
     },
     "execution_count": 4,
     "metadata": {},
     "output_type": "execute_result"
    }
   ],
   "source": [
    "production_times = [\n",
    "    0.983504 0.100000 1.406759 0.100000 0.128208 0.170770 0.100000 0.032459 0.743308 0.100000 0.228631 0.207390 0.833100 0.848497 0.271436 0.954509 0.100000 0.853148 0.268146 1.100386 0.206335 0.160879 1.084882 0.962546 0.988430 0.380578 0.655309 \n",
    "    1.368689 0.080304 1.171082 0.100000 0.535552 0.791563 1.609829 0.423762 1.092447 0.116555 0.327518 0.024092 0.401791 1.065785 0.079894 0.100000 0.752984 0.869412 0.626171 0.050198 1.340658 0.924486 0.301594 1.290483 0.374157 0.100000 0.030227 \n",
    "    0.415598 0.100000 0.223786 0.812987 0.840195 0.146921 0.780021 0.048910 0.286932 0.282572 0.879132 0.759051 0.331522 0.100000 0.445415 0.422068 0.319343 0.397008 0.556069 0.417160 0.152523 0.031006 0.493184 0.539963 0.100000 0.259707 0.554767 \n",
    "    1.442143 0.695434 0.847604 0.851356 0.392970 0.504895 0.100000 0.100000 0.594523 1.114905 0.100000 0.777045 0.221361 0.100000 0.290602 0.556080 0.100000 0.342156 0.096688 0.378765 0.100000 1.008926 0.100000 0.865582 0.100000 0.989782 0.607988 \n",
    "    1.875976 0.007082 0.914191 0.895045 1.260698 0.220967 0.100000 0.100000 0.482430 0.100000 1.354770 0.544692 0.161848 0.637343 0.100000 0.781591 0.322441 0.914050 1.089283 0.388083 0.100000 0.429834 0.857932 0.587334 0.100000 0.100000 1.392609 \n",
    "    1.423720 1.039168 0.505753 0.317895 0.100000 0.542148 0.646325 1.615048 0.098688 0.100000 0.636624 0.259319 0.368071 0.668082 0.645288 0.439336 0.100000 0.939297 0.429867 0.911819 0.100000 0.238061 1.065820 0.525382 0.376609 0.349205 0.100000 \n",
    "    1.078109 0.165136 0.100000 0.098734 0.022490 0.563210 1.201686 0.100000 0.752274 0.100000 1.114312 0.615884 0.158040 1.611702 0.379952 0.983145 0.438614 0.444633 0.100000 0.346251 0.404581 0.100000 0.813754 0.100000 0.589275 0.100000 0.625450 \n",
    "    1.449671 0.453410 0.143044 0.979773 0.246932 1.026548 0.440531 0.238100 1.536226 0.100000 0.596551 0.720367 1.409128 0.700730 0.100000 1.106768 0.688380 1.144165 0.181646 1.452223 0.100000 0.334709 0.100000 0.638681 0.351666 0.100000 0.100000 \n",
    "    0.982764 1.209890 1.182011 0.561607 0.851918 0.711275 0.929751 0.100000 0.763202 1.113677 1.102357 0.162201 0.720189 0.100000 0.100000 1.043556 0.014715 0.722055 0.100000 0.791533 0.025172 0.131773 0.555181 0.876717 0.100000 0.092346 0.203380 \n",
    "    0.943085 0.412107 0.100000 0.243530 0.464097 0.774654 0.191213 0.645810 0.767446 0.100000 1.060015 0.419030 0.478752 1.884677 0.652122 1.329954 0.100000 0.871573 0.624940 1.167665 0.436040 0.100000 0.543737 0.473223 0.446280 0.100000 0.100000 \n",
    "    0.472686 0.362074 0.061172 0.485909 0.892814 0.904975 0.101155 1.080560 0.746810 0.322257 0.100000 0.100000 0.695025 0.243970 0.172377 0.996232 0.529584 0.483970 0.100000 1.008093 0.506070 0.202680 0.100000 1.069251 0.137283 0.529766 1.025986 \n",
    "    0.100000 1.019463 0.696875 0.100000 0.746171 0.985291 0.037385 0.100000 0.074496 0.100000 0.577002 0.527952 0.841244 0.293179 0.100000 1.608572 0.029397 0.207620 1.072419 0.775506 0.221942 0.100000 0.715292 0.100000 0.100000 0.100000 0.190612 \n",
    "    0.590025 0.100000 0.866239 0.281732 0.094228 1.406728 0.240686 0.206688 0.100000 0.463354 0.655523 0.100000 0.402557 0.014878 0.928976 0.081595 0.407663 0.464885 0.258685 1.013621 0.173947 0.100000 0.691241 0.781144 0.187214 0.430459 1.513504 \n",
    "]"
   ]
  },
  {
   "cell_type": "code",
   "execution_count": 5,
   "id": "cd41bbba-1f43-428b-aca9-aeff233028ae",
   "metadata": {},
   "outputs": [
    {
     "data": {
      "text/plain": [
       "A JuMP Model\n",
       "├ solver: GLPK\n",
       "├ objective_sense: FEASIBILITY_SENSE\n",
       "├ num_variables: 0\n",
       "├ num_constraints: 0\n",
       "└ Names registered in the model: none"
      ]
     },
     "execution_count": 5,
     "metadata": {},
     "output_type": "execute_result"
    }
   ],
   "source": [
    "model = Model(GLPK.Optimizer)"
   ]
  },
  {
   "cell_type": "code",
   "execution_count": 6,
   "id": "2e70eb49-6f72-4951-9051-ca5730acf3d7",
   "metadata": {},
   "outputs": [
    {
     "data": {
      "text/latex": [
       "$ T $"
      ],
      "text/plain": [
       "T"
      ]
     },
     "execution_count": 6,
     "metadata": {},
     "output_type": "execute_result"
    }
   ],
   "source": [
    "# Variables\n",
    "@variable(model, x[1:n, 1:m], Bin)  # Assignment of tasks to workers\n",
    "@variable(model, b[1:n, 1:m], Bin)  # Start of a block for a worker\n",
    "@variable(model, e[1:n, 1:m], Bin)  # End of a block for a worker\n",
    "@variable(model, T >= 0)  # Maximum workload"
   ]
  },
  {
   "cell_type": "code",
   "execution_count": 7,
   "id": "3d921dcd-2b9c-4484-95ea-16b3a2655cdb",
   "metadata": {},
   "outputs": [
    {
     "data": {
      "text/latex": [
       "$ T $"
      ],
      "text/plain": [
       "T"
      ]
     },
     "execution_count": 7,
     "metadata": {},
     "output_type": "execute_result"
    }
   ],
   "source": [
    "@objective(model, Min, T)"
   ]
  },
  {
   "cell_type": "code",
   "execution_count": 8,
   "id": "18084521-52c6-494f-84f5-c3b21eadb910",
   "metadata": {},
   "outputs": [],
   "source": [
    "for i in 1:n\n",
    "    @constraint(model, sum(x[i, j] for j in 1:m) == 1)\n",
    "end"
   ]
  },
  {
   "cell_type": "code",
   "execution_count": 9,
   "id": "e6b23ae0-798e-4fd4-b1a7-5ff6ce9802c9",
   "metadata": {},
   "outputs": [],
   "source": [
    "# Contiguity constraints: Each worker has exactly one contiguous block\n",
    "for j in 1:m\n",
    "    # Exactly one start and one end per worker\n",
    "    @constraint(model, sum(b[i, j] for i in 1:n) == 1)\n",
    "    @constraint(model, sum(e[i, j] for i in 1:n) == 1)\n",
    "    \n",
    "    # Start position definition\n",
    "    for i in 1:n\n",
    "        # Handle boundary cases (i=1 and i=num_operations)\n",
    "        prev_x = (i == 1) ? 0 : x[i-1, j]\n",
    "        next_x = (i == n) ? 0 : x[i+1, j]\n",
    "        \n",
    "        # d[i,j] = 1 if x[i,j] = 1 and x[i-1,j] = 0\n",
    "        @constraint(model, b[i, j] >= x[i, j] - prev_x)\n",
    "        @constraint(model, b[i, j] <= x[i, j])\n",
    "        @constraint(model, b[i, j] <= 1 - prev_x)\n",
    "        \n",
    "        # e[i,j] = 1 if x[i,j] = 1 and x[i+1,j] = 0\n",
    "        @constraint(model, e[i, j] >= x[i, j] - next_x)\n",
    "        @constraint(model, e[i, j] <= x[i, j])\n",
    "        @constraint(model, e[i, j] <= 1 - next_x)\n",
    "    end\n",
    "end"
   ]
  },
  {
   "cell_type": "code",
   "execution_count": 10,
   "id": "c3fd2faa-fe62-4f59-8405-1bca7fa3ae78",
   "metadata": {},
   "outputs": [],
   "source": [
    "# Workload constraints: T >= sum of production times for each worker\n",
    "for j in 1:m\n",
    "    @constraint(model, T >= sum(production_times[j, i] * x[i, j] for i in 1:n))\n",
    "end"
   ]
  },
  {
   "cell_type": "code",
   "execution_count": 11,
   "id": "5f1388ef-ab70-430b-b527-18c983c9a386",
   "metadata": {},
   "outputs": [],
   "source": [
    "optimize!(model)"
   ]
  },
  {
   "cell_type": "code",
   "execution_count": 12,
   "id": "e49b2ada-915f-4c07-9ccb-8079058fff26",
   "metadata": {},
   "outputs": [
    {
     "name": "stdout",
     "output_type": "stream",
     "text": [
      "Maximum workload (T): 0.475453\n",
      "Worker 1: Tasks [6, 7, 8] | Workload: 0.303229\n",
      "Worker 2: Tasks [15, 16] | Workload: 0.179894\n",
      "Worker 3: Tasks [1] | Workload: 0.415598\n",
      "Worker 4: Tasks [19, 20] | Workload: 0.475453\n",
      "Worker 5: Tasks [21] | Workload: 0.1\n",
      "Worker 6: Tasks [9, 10] | Workload: 0.198688\n",
      "Worker 7: Tasks [2, 3, 4, 5] | Workload: 0.38636000000000004\n",
      "Worker 8: Tasks [22, 23] | Workload: 0.434709\n",
      "Worker 9: Tasks [25, 26, 27] | Workload: 0.395726\n",
      "Worker 10: Tasks [24] | Workload: 0.473223\n",
      "Worker 11: Tasks [11, 12] | Workload: 0.2\n",
      "Worker 12: Tasks [17, 18] | Workload: 0.237017\n",
      "Worker 13: Tasks [13, 14] | Workload: 0.417435\n"
     ]
    }
   ],
   "source": [
    "println(\"Maximum workload (T): \", objective_value(model))\n",
    "\n",
    "# Print assignments\n",
    "for j in 1:m\n",
    "    assigned_tasks = [i for i in 1:n if value(x[i, j]) > 0.5]\n",
    "    if !isempty(assigned_tasks)\n",
    "        println(\"Worker $j: Tasks \", assigned_tasks, \" | Workload: \", sum(production_times[j, i] for i in assigned_tasks))\n",
    "    end\n",
    "end"
   ]
  }
 ],
 "metadata": {
  "kernelspec": {
   "display_name": "Julia 1.11.5",
   "language": "julia",
   "name": "julia-1.11"
  },
  "language_info": {
   "file_extension": ".jl",
   "mimetype": "application/julia",
   "name": "julia",
   "version": "1.11.5"
  }
 },
 "nbformat": 4,
 "nbformat_minor": 5
}
