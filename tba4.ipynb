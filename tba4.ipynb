{
 "cells": [
  {
   "cell_type": "code",
   "execution_count": 1,
   "id": "86d4cc39-de15-44aa-a8e0-c16106c17766",
   "metadata": {},
   "outputs": [],
   "source": [
    "import Pkg; Pkg.add(\"JuMP\");  Pkg.add(\"GLPK\");  Pkg.add(\"DelimitedFiles\"); "
   ]
  },
  {
   "cell_type": "code",
   "execution_count": 2,
   "id": "2167a91f-c3a4-4e32-9623-643d3df85afc",
   "metadata": {},
   "outputs": [],
   "source": [
    "using JuMP          # Modeling language for optimization\n",
    "using GLPK          # Open-source solver for linear programming"
   ]
  },
  {
   "cell_type": "code",
   "execution_count": 3,
   "id": "3663cb1c-dfba-4dc2-80e5-403829b0026c",
   "metadata": {},
   "outputs": [
    {
     "data": {
      "text/plain": [
       "15"
      ]
     },
     "execution_count": 3,
     "metadata": {},
     "output_type": "execute_result"
    }
   ],
   "source": [
    "# Dados do problema\n",
    "n = 22  # número de operações\n",
    "m = 15  # número de trabalhadores"
   ]
  },
  {
   "cell_type": "code",
   "execution_count": 4,
   "id": "7b5723d2-4585-4f74-9c92-ee662f6b3737",
   "metadata": {},
   "outputs": [
    {
     "data": {
      "text/plain": [
       "15×22 Matrix{Float64}:\n",
       " 0.1       0.1       0.397738  0.037533  …  0.446741  1.07435   0.859461\n",
       " 0.1       0.412482  0.571367  0.875734     0.152716  0.046289  1.5025\n",
       " 0.1       0.49764   0.593677  0.1          1.55112   0.1       1.12908\n",
       " 0.1       0.842489  1.29113   0.562846     0.748527  0.566732  0.147558\n",
       " 0.557174  1.32667   0.995973  0.273713     0.386951  0.744712  0.410344\n",
       " 0.1       1.02922   0.44843   1.52995   …  0.260475  0.479696  0.123285\n",
       " 0.1       0.762342  1.14303   0.105954     0.1       1.10872   0.662713\n",
       " 0.1       0.660018  0.212633  0.1          0.028599  1.04909   0.330833\n",
       " 0.042668  0.460504  0.626417  0.312621     0.324943  0.370991  0.930183\n",
       " 0.1       0.057187  0.1       0.081522     0.453046  0.467704  0.1\n",
       " 0.383786  0.1       0.1       0.378112  …  0.801216  0.367788  0.362179\n",
       " 0.019714  0.340133  1.25018   0.211151     0.014305  0.950333  0.333562\n",
       " 0.1       0.395215  0.594415  0.1          0.696199  0.605376  0.497661\n",
       " 0.543385  0.504458  0.526798  0.141072     0.1       0.969522  0.252409\n",
       " 0.1       0.518263  0.1       0.658767     0.618427  0.431776  0.1"
      ]
     },
     "execution_count": 4,
     "metadata": {},
     "output_type": "execute_result"
    }
   ],
   "source": [
    "production_times = [\n",
    "    0.100000 0.100000 0.397738 0.037533 0.369641 0.887937 0.353074 0.100000 0.006971 0.080339 0.773040 0.577783 0.100000 0.580329 0.305738 1.175569 0.957931 0.366540 0.100000 0.446741 1.074347 0.859461 \n",
    "    0.100000 0.412482 0.571367 0.875734 1.833133 0.948532 0.100000 0.764297 0.825629 0.036369 0.062936 1.045184 0.561447 0.829899 0.854832 1.007855 0.517758 0.559807 0.100000 0.152716 0.046289 1.502496 \n",
    "    0.100000 0.497640 0.593677 0.100000 0.954223 0.777062 0.056070 0.954216 0.100000 0.100000 0.100000 0.086715 0.100000 0.968429 1.118398 1.724404 1.240722 0.597454 0.128786 1.551118 0.100000 1.129084 \n",
    "    0.100000 0.842489 1.291127 0.562846 0.100000 0.008658 0.100000 0.757542 0.680999 0.578106 0.904453 1.290046 0.100000 0.307003 0.247295 1.034475 0.767781 0.815811 0.100000 0.748527 0.566732 0.147558 \n",
    "    0.557174 1.326666 0.995973 0.273713 0.683676 0.336174 0.762078 0.181944 1.305439 0.984219 0.100000 0.809133 0.006587 0.356811 0.184787 0.808621 1.069748 0.100000 0.100000 0.386951 0.744712 0.410344 \n",
    "    0.100000 1.029224 0.448430 1.529951 0.402932 0.626567 0.543009 0.311323 0.100000 0.991639 0.439248 0.432077 0.100000 1.404971 0.168206 0.375319 0.091332 0.100000 0.198470 0.260475 0.479696 0.123285 \n",
    "    0.100000 0.762342 1.143032 0.105954 0.100000 0.015117 0.150068 0.100000 0.321518 0.975810 0.100000 0.931019 0.533373 0.497661 0.423843 0.835915 0.627007 0.100000 0.100000 0.100000 1.108723 0.662713 \n",
    "    0.100000 0.660018 0.212633 0.100000 0.125857 0.290973 0.728496 0.308739 0.007081 0.355854 0.735748 0.100000 0.100000 0.971344 0.100000 0.100000 0.831979 0.158210 0.721333 0.028599 1.049093 0.330833 \n",
    "    0.042668 0.460504 0.626417 0.312621 0.209275 0.571178 0.661096 0.381939 0.100000 1.452925 0.100000 0.278333 0.025680 0.924499 1.250802 0.726634 0.618942 0.873035 0.038998 0.324943 0.370991 0.930183 \n",
    "    0.100000 0.057187 0.100000 0.081522 1.088620 0.536499 0.538531 0.196467 0.920108 1.074360 0.159411 0.997117 0.299614 0.532854 0.968654 0.747819 0.835326 0.063239 0.100000 0.453046 0.467704 0.100000 \n",
    "    0.383786 0.100000 0.100000 0.378112 0.629379 0.100000 0.307374 0.100000 0.100000 0.601888 0.998407 0.100000 0.099586 0.833856 0.100000 0.207879 0.614394 0.100000 0.100000 0.801216 0.367788 0.362179 \n",
    "    0.019714 0.340133 1.250180 0.211151 0.889096 0.074491 0.270179 0.662073 0.147069 0.100000 0.526985 0.350532 1.039212 0.871610 0.745446 0.933616 0.100000 0.226212 0.100000 0.014305 0.950333 0.333562 \n",
    "    0.100000 0.395215 0.594415 0.100000 0.661613 0.783461 0.426983 1.222478 0.100000 0.100000 0.100000 0.374444 0.022450 0.555674 0.235103 1.291309 0.451725 0.100000 0.100000 0.696199 0.605376 0.497661 \n",
    "    0.543385 0.504458 0.526798 0.141072 0.867543 0.826879 0.721342 0.157067 0.547217 0.847190 0.017710 0.376192 0.100000 0.721086 0.191085 0.100000 0.463770 0.100000 0.457805 0.100000 0.969522 0.252409 \n",
    "    0.100000 0.518263 0.100000 0.658767 0.892788 0.885272 0.377206 0.100000 0.337079 0.908407 0.100000 0.700532 0.767425 0.884386 0.756565 0.392437 0.311715 0.719812 0.100000 0.618427 0.431776 0.100000 \n",
    "]"
   ]
  },
  {
   "cell_type": "code",
   "execution_count": 5,
   "id": "cd41bbba-1f43-428b-aca9-aeff233028ae",
   "metadata": {},
   "outputs": [
    {
     "data": {
      "text/plain": [
       "A JuMP Model\n",
       "├ solver: GLPK\n",
       "├ objective_sense: FEASIBILITY_SENSE\n",
       "├ num_variables: 0\n",
       "├ num_constraints: 0\n",
       "└ Names registered in the model: none"
      ]
     },
     "execution_count": 5,
     "metadata": {},
     "output_type": "execute_result"
    }
   ],
   "source": [
    "model = Model(GLPK.Optimizer)"
   ]
  },
  {
   "cell_type": "code",
   "execution_count": 6,
   "id": "2e70eb49-6f72-4951-9051-ca5730acf3d7",
   "metadata": {},
   "outputs": [
    {
     "data": {
      "text/latex": [
       "$ T $"
      ],
      "text/plain": [
       "T"
      ]
     },
     "execution_count": 6,
     "metadata": {},
     "output_type": "execute_result"
    }
   ],
   "source": [
    "# Variables\n",
    "@variable(model, x[1:n, 1:m], Bin)  # Assignment of tasks to workers\n",
    "@variable(model, b[1:n, 1:m], Bin)  # Start of a block for a worker\n",
    "@variable(model, e[1:n, 1:m], Bin)  # End of a block for a worker\n",
    "@variable(model, T >= 0)  # Maximum workload"
   ]
  },
  {
   "cell_type": "code",
   "execution_count": 7,
   "id": "3d921dcd-2b9c-4484-95ea-16b3a2655cdb",
   "metadata": {},
   "outputs": [
    {
     "data": {
      "text/latex": [
       "$ T $"
      ],
      "text/plain": [
       "T"
      ]
     },
     "execution_count": 7,
     "metadata": {},
     "output_type": "execute_result"
    }
   ],
   "source": [
    "@objective(model, Min, T)"
   ]
  },
  {
   "cell_type": "code",
   "execution_count": 8,
   "id": "18084521-52c6-494f-84f5-c3b21eadb910",
   "metadata": {},
   "outputs": [],
   "source": [
    "for i in 1:n\n",
    "    @constraint(model, sum(x[i, j] for j in 1:m) == 1)\n",
    "end"
   ]
  },
  {
   "cell_type": "code",
   "execution_count": 9,
   "id": "e6b23ae0-798e-4fd4-b1a7-5ff6ce9802c9",
   "metadata": {},
   "outputs": [],
   "source": [
    "# Contiguity constraints: Each worker has exactly one contiguous block\n",
    "for j in 1:m\n",
    "    # Exactly one start and one end per worker\n",
    "    @constraint(model, sum(b[i, j] for i in 1:n) == 1)\n",
    "    @constraint(model, sum(e[i, j] for i in 1:n) == 1)\n",
    "    \n",
    "    # Start position definition\n",
    "    for i in 1:n\n",
    "        # Handle boundary cases (i=1 and i=num_operations)\n",
    "        prev_x = (i == 1) ? 0 : x[i-1, j]\n",
    "        next_x = (i == n) ? 0 : x[i+1, j]\n",
    "        \n",
    "        # d[i,j] = 1 if x[i,j] = 1 and x[i-1,j] = 0\n",
    "        @constraint(model, b[i, j] >= x[i, j] - prev_x)\n",
    "        @constraint(model, b[i, j] <= x[i, j])\n",
    "        @constraint(model, b[i, j] <= 1 - prev_x)\n",
    "        \n",
    "        # e[i,j] = 1 if x[i,j] = 1 and x[i+1,j] = 0\n",
    "        @constraint(model, e[i, j] >= x[i, j] - next_x)\n",
    "        @constraint(model, e[i, j] <= x[i, j])\n",
    "        @constraint(model, e[i, j] <= 1 - next_x)\n",
    "    end\n",
    "end"
   ]
  },
  {
   "cell_type": "code",
   "execution_count": 10,
   "id": "c3fd2faa-fe62-4f59-8405-1bca7fa3ae78",
   "metadata": {},
   "outputs": [],
   "source": [
    "# Workload constraints: T >= sum of production times for each worker\n",
    "for j in 1:m\n",
    "    @constraint(model, T >= sum(production_times[j, i] * x[i, j] for i in 1:n))\n",
    "end"
   ]
  },
  {
   "cell_type": "code",
   "execution_count": 11,
   "id": "5f1388ef-ab70-430b-b527-18c983c9a386",
   "metadata": {},
   "outputs": [],
   "source": [
    "optimize!(model)"
   ]
  },
  {
   "cell_type": "code",
   "execution_count": 14,
   "id": "e49b2ada-915f-4c07-9ccb-8079058fff26",
   "metadata": {},
   "outputs": [
    {
     "name": "stdout",
     "output_type": "stream",
     "text": [
      "Maximum workload (T): 0.307003\n",
      "Worker 1: Tasks [8, 9, 10] | Workload: 0.18731\n",
      "Worker 2: Tasks [19, 20, 21] | Workload: 0.29900499999999997\n",
      "Worker 3: Tasks [7] | Workload: 0.05607\n",
      "Worker 4: Tasks [14] | Workload: 0.307003\n",
      "Worker 5: Tasks [18] | Workload: 0.1\n",
      "Worker 6: Tasks [17] | Workload: 0.091332\n",
      "Worker 7: Tasks [6] | Workload: 0.015117\n",
      "Worker 8: Tasks [15, 16] | Workload: 0.2\n",
      "Worker 9: Tasks [5] | Workload: 0.209275\n",
      "Worker 10: Tasks [1, 2, 3] | Workload: 0.25718700000000005\n",
      "Worker 11: Tasks [12] | Workload: 0.1\n",
      "Worker 12: Tasks [4] | Workload: 0.211151\n",
      "Worker 13: Tasks [13] | Workload: 0.02245\n",
      "Worker 14: Tasks [11] | Workload: 0.01771\n",
      "Worker 15: Tasks [22] | Workload: 0.1\n"
     ]
    }
   ],
   "source": [
    "println(\"Maximum workload (T): \", objective_value(model))\n",
    "\n",
    "# Print assignments\n",
    "for j in 1:m\n",
    "    assigned_tasks = [i for i in 1:n if value(x[i, j]) > 0.5]\n",
    "    if !isempty(assigned_tasks)\n",
    "        println(\"Worker $j: Tasks \", assigned_tasks, \" | Workload: \", sum(production_times[j, i] for i in assigned_tasks))\n",
    "    end\n",
    "end"
   ]
  }
 ],
 "metadata": {
  "kernelspec": {
   "display_name": "Julia 1.11.5",
   "language": "julia",
   "name": "julia-1.11"
  },
  "language_info": {
   "file_extension": ".jl",
   "mimetype": "application/julia",
   "name": "julia",
   "version": "1.11.5"
  }
 },
 "nbformat": 4,
 "nbformat_minor": 5
}
