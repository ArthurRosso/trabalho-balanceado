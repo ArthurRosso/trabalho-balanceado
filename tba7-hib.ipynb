{
 "cells": [
  {
   "cell_type": "code",
   "execution_count": 1,
   "id": "209a63f8-a707-4f3a-b73f-525210346bd6",
   "metadata": {},
   "outputs": [
    {
     "name": "stderr",
     "output_type": "stream",
     "text": [
      "\u001b[32m\u001b[1m   Resolving\u001b[22m\u001b[39m package versions...\n",
      "\u001b[32m\u001b[1m  No Changes\u001b[22m\u001b[39m to `~/.julia/environments/v1.11/Project.toml`\n",
      "\u001b[32m\u001b[1m  No Changes\u001b[22m\u001b[39m to `~/.julia/environments/v1.11/Manifest.toml`\n",
      "\u001b[32m\u001b[1m   Resolving\u001b[22m\u001b[39m package versions...\n",
      "\u001b[32m\u001b[1m  No Changes\u001b[22m\u001b[39m to `~/.julia/environments/v1.11/Project.toml`\n",
      "\u001b[32m\u001b[1m  No Changes\u001b[22m\u001b[39m to `~/.julia/environments/v1.11/Manifest.toml`\n",
      "\u001b[32m\u001b[1m   Resolving\u001b[22m\u001b[39m package versions...\n",
      "\u001b[32m\u001b[1m  No Changes\u001b[22m\u001b[39m to `~/.julia/environments/v1.11/Project.toml`\n",
      "\u001b[32m\u001b[1m  No Changes\u001b[22m\u001b[39m to `~/.julia/environments/v1.11/Manifest.toml`\n"
     ]
    }
   ],
   "source": [
    "import Pkg; Pkg.add(\"JuMP\");  Pkg.add(\"GLPK\");  Pkg.add(\"Random\"); "
   ]
  },
  {
   "cell_type": "code",
   "execution_count": 2,
   "id": "1121383e-4341-4ff2-a2ba-7cd0ee36e260",
   "metadata": {},
   "outputs": [],
   "source": [
    "using JuMP\n",
    "using GLPK\n",
    "using Random\n",
    "using Plots"
   ]
  },
  {
   "cell_type": "code",
   "execution_count": 3,
   "id": "094eb264-c328-4de0-a24c-eda5ec0f6f39",
   "metadata": {},
   "outputs": [
    {
     "data": {
      "text/plain": [
       "14×32 Matrix{Float64}:\n",
       " 0.394455  0.887469  0.059056  0.630017  …  0.290624  0.844265  0.075421\n",
       " 0.175642  0.138501  0.989093  0.1          0.469208  0.444131  0.060578\n",
       " 0.491818  1.04172   0.366432  0.463663     0.044223  0.495571  0.275243\n",
       " 0.15206   0.564769  0.609526  0.641453     0.287839  0.167807  0.849978\n",
       " 0.70286   0.1       0.582303  0.311126     0.035892  0.1       0.083834\n",
       " 0.1       0.772797  0.625066  0.467431  …  0.349081  0.379292  0.1\n",
       " 1.32362   0.283758  0.762827  0.1          0.250313  1.82929   0.560429\n",
       " 0.968449  0.005319  1.50247   0.017305     0.428449  0.351001  0.1\n",
       " 0.501568  0.831582  1.05215   0.891741     0.699732  1.08499   0.391246\n",
       " 0.416857  1.10516   0.502641  0.501636     0.4591    0.605081  0.1\n",
       " 0.692023  0.703051  0.1       0.493539  …  0.054939  0.241175  0.479627\n",
       " 0.425164  1.25786   0.1       0.740668     0.747816  0.138316  0.138855\n",
       " 0.240873  0.591146  0.711213  0.33902      0.194942  0.161233  0.658101\n",
       " 0.390067  0.455697  1.35369   0.623134     0.39771   0.880639  0.823773"
      ]
     },
     "execution_count": 3,
     "metadata": {},
     "output_type": "execute_result"
    }
   ],
   "source": [
    "# Dados do problema\n",
    "n = 32  # número de operações\n",
    "m = 14  # número de trabalhadores\n",
    "production_times = [\n",
    "    0.394455 0.887469 0.059056 0.630017 0.192982 0.309118 0.347316 0.356712 1.480903 1.244382 0.593374 0.804714 0.185590 0.472639 0.526727 0.669363 0.175841 0.631347 0.425798 0.901230 0.550198 0.287530 0.748237 0.073036 0.557304 0.218358 0.375037 0.215329 0.184584 0.290624 0.844265 0.075421 \n",
    "    0.175642 0.138501 0.989093 0.100000 0.046554 0.100000 0.100000 0.520904 1.317292 1.336659 0.899442 0.307156 0.478133 0.100000 0.771518 0.788452 0.814638 0.535061 0.306833 0.100000 0.372234 0.384788 0.100000 0.786044 0.634378 0.433438 1.071173 0.100000 0.117785 0.469208 0.444131 0.060578 \n",
    "    0.491818 1.041722 0.366432 0.463663 0.503861 0.100000 0.334810 0.466481 0.335455 0.210806 0.100000 0.808876 0.140211 0.311972 0.679312 0.509171 0.100000 0.339150 0.890086 0.419357 0.576498 0.135279 0.169215 0.236398 0.289106 0.051084 0.093069 0.454653 0.040544 0.044223 0.495571 0.275243 \n",
    "    0.152060 0.564769 0.609526 0.641453 0.471718 0.361538 0.596131 0.275872 0.123922 1.257859 0.230196 0.339581 0.479209 0.793445 0.161461 0.661456 0.864926 0.538613 0.616115 0.637031 0.179539 1.062452 0.533542 0.194476 0.118978 0.178660 0.954042 0.461457 0.912611 0.287839 0.167807 0.849978 \n",
    "    0.702860 0.100000 0.582303 0.311126 0.246378 0.015724 0.103491 0.100000 1.185220 0.787430 0.100000 0.100000 0.100000 0.891934 1.224721 0.496911 0.631752 0.947047 0.100000 0.531682 0.705449 0.828490 0.265224 0.100000 0.079252 0.619900 1.466792 0.419110 0.100000 0.035892 0.100000 0.083834 \n",
    "    0.100000 0.772797 0.625066 0.467431 0.254559 0.100000 0.357131 0.647448 0.345371 0.575543 0.100000 0.369325 0.100000 0.100000 0.301792 0.480311 0.196490 0.055209 0.397203 0.627999 0.481369 0.016959 0.297014 0.117415 0.773319 0.100000 0.618367 0.469299 0.231496 0.349081 0.379292 0.100000 \n",
    "    1.323624 0.283758 0.762827 0.100000 0.487584 0.479639 0.280230 0.635129 1.074527 0.912477 0.899896 1.001921 0.548699 0.100000 0.100000 0.789036 0.100000 1.061424 0.289565 0.590118 0.732408 0.100000 0.354167 0.638481 1.293346 0.100000 0.219919 0.188593 0.688738 0.250313 1.829285 0.560429 \n",
    "    0.968449 0.005319 1.502469 0.017305 0.581375 0.100000 0.772587 0.428938 0.337353 0.742352 0.217709 0.510060 0.132199 0.615168 0.846812 0.184614 0.617952 0.637964 0.071788 0.797156 0.303474 0.116420 0.100000 0.051611 0.730077 0.449382 1.039248 0.015841 0.100000 0.428449 0.351001 0.100000 \n",
    "    0.501568 0.831582 1.052152 0.891741 0.194699 0.019053 0.397246 0.401026 1.173963 0.497298 0.342927 0.117926 0.919601 0.689348 1.079065 1.046354 0.100000 0.312415 0.489932 0.693381 0.577590 0.155443 0.100000 0.696266 0.887702 0.506390 0.106709 0.363311 0.581033 0.699732 1.084987 0.391246 \n",
    "    0.416857 1.105155 0.502641 0.501636 0.192490 0.065014 1.140042 0.905681 0.709029 0.438350 0.100000 0.279268 0.781009 0.293687 0.601738 0.713376 0.221829 0.884528 0.852070 0.639786 0.100000 0.182462 0.899737 0.558000 0.338634 0.338584 0.216920 0.490104 0.121888 0.459100 0.605081 0.100000 \n",
    "    0.692023 0.703051 0.100000 0.493539 0.504104 0.100000 0.603327 0.100000 0.063652 0.871094 0.735658 0.429101 0.470496 0.014040 0.340105 0.364202 0.100000 0.386374 0.657068 0.602427 0.451308 0.100000 0.078635 0.649230 0.494453 0.100000 0.915078 0.100000 1.221627 0.054939 0.241175 0.479627 \n",
    "    0.425164 1.257863 0.100000 0.740668 0.100000 1.157179 0.888621 0.521177 1.169033 0.100000 0.100000 0.493194 0.990943 0.627544 0.607544 1.114142 0.100000 0.795785 0.100000 0.941198 1.105178 0.373278 0.930544 0.536590 0.100000 0.704848 1.309884 0.831666 0.559446 0.747816 0.138316 0.138855 \n",
    "    0.240873 0.591146 0.711213 0.339020 0.936425 0.394629 0.338113 0.100000 0.285101 0.617951 0.100000 0.554995 0.304907 0.018462 0.442478 0.100000 0.082952 0.188861 0.517139 0.960084 0.187193 0.100000 0.012574 0.040193 0.033629 0.621127 0.745115 0.044945 0.643159 0.194942 0.161233 0.658101 \n",
    "    0.390067 0.455697 1.353690 0.623134 0.803194 0.100000 0.433356 0.262178 0.133002 0.308981 0.423883 0.382316 0.353663 0.283399 0.745939 0.887463 0.366587 0.285726 0.632973 0.384544 1.271791 0.599024 0.141999 0.100000 0.327378 0.766905 1.076373 0.546487 1.032184 0.397710 0.880639 0.823773\n",
    "]"
   ]
  },
  {
   "cell_type": "code",
   "execution_count": 4,
   "id": "7eaaf9d8-7ca8-40c1-af50-52be695749a4",
   "metadata": {},
   "outputs": [
    {
     "data": {
      "text/plain": [
       "simulated_annealing (generic function with 1 method)"
      ]
     },
     "execution_count": 4,
     "metadata": {},
     "output_type": "execute_result"
    }
   ],
   "source": [
    "# Funções auxiliares\n",
    "function calculate_max_workload(assignment, production_times, n, m)\n",
    "    workloads = zeros(m)\n",
    "    for j in 1:m\n",
    "        for i in 1:n\n",
    "            if assignment[i] == j\n",
    "                workloads[j] += production_times[j, i]\n",
    "            end\n",
    "        end\n",
    "    end\n",
    "    return maximum(workloads)\n",
    "end\n",
    "\n",
    "function is_valid_assignment(assignment, m)\n",
    "    for j in 1:m\n",
    "        assigned_indices = findall(x -> x == j, assignment)\n",
    "        if !isempty(assigned_indices)\n",
    "            if maximum(assigned_indices) - minimum(assigned_indices) + 1 != length(assigned_indices)\n",
    "                return false\n",
    "            end\n",
    "        end\n",
    "    end\n",
    "    return true\n",
    "end\n",
    "# Geração de solução inicial\n",
    "function generate_initial_solution(n, m)\n",
    "    # Divide as tarefas em m blocos contíguos\n",
    "    split_points = sort([rand(1:n-1) for _ in 1:(m-1)])\n",
    "    split_points = unique(split_points)\n",
    "    while length(split_points) < m-1\n",
    "        new_point = rand(1:n-1)\n",
    "        if !(new_point in split_points)\n",
    "            push!(split_points, new_point)\n",
    "        end\n",
    "    end\n",
    "    split_points = sort(unique(split_points))\n",
    "    push!(split_points, n)\n",
    "    \n",
    "    assignment = zeros(Int, n)\n",
    "    start = 1\n",
    "    for (j, stop) in enumerate(split_points)\n",
    "        assignment[start:stop] .= j\n",
    "        start = stop + 1\n",
    "    end\n",
    "    \n",
    "    # Alguns workers podem ficar sem tarefas, então redistribuímos\n",
    "    used_workers = unique(assignment)\n",
    "    if length(used_workers) < m\n",
    "        unused_workers = setdiff(1:m, used_workers)\n",
    "        for worker in unused_workers\n",
    "            if length(used_workers) >= 1\n",
    "                donor = rand(used_workers)\n",
    "                donor_tasks = findall(x -> x == donor, assignment)\n",
    "                if length(donor_tasks) > 1\n",
    "                    split_point = rand(1:(length(donor_tasks)-1))\n",
    "                    assignment[donor_tasks[1:split_point]] .= worker\n",
    "                    push!(used_workers, worker)\n",
    "                end\n",
    "            end\n",
    "        end\n",
    "    end\n",
    "    \n",
    "    return assignment\n",
    "end\n",
    "# Geração de vizinhos\n",
    "function generate_neighbor(assignment, m)\n",
    "    n = length(assignment)\n",
    "    new_assignment = copy(assignment)\n",
    "    \n",
    "    i = rand(1:n)\n",
    "    current_worker = assignment[i]\n",
    "    \n",
    "    start = i\n",
    "    while start > 1 && assignment[start-1] == current_worker\n",
    "        start -= 1\n",
    "    end\n",
    "    stop = i\n",
    "    while stop < n && assignment[stop+1] == current_worker\n",
    "        stop += 1\n",
    "    end\n",
    "    \n",
    "    if rand() < 0.5 && (stop - start + 1) > 1\n",
    "        if i - start > 0 && stop - i > 0\n",
    "            split_point = i\n",
    "            new_worker = rand(setdiff(1:m, [current_worker]))\n",
    "            new_assignment[split_point+1:stop] .= new_worker\n",
    "        else\n",
    "            new_worker = rand(setdiff(1:m, [current_worker]))\n",
    "            new_assignment[start:stop] .= new_worker\n",
    "        end\n",
    "    else\n",
    "        new_worker = rand(setdiff(1:m, [current_worker]))\n",
    "        new_assignment[start:stop] .= new_worker\n",
    "    end\n",
    "    \n",
    "    if !is_valid_assignment(new_assignment, m)\n",
    "        return assignment\n",
    "    end\n",
    "    \n",
    "    return new_assignment\n",
    "end\n",
    "# Algoritmo Simulated Annealing\n",
    "function simulated_annealing(production_times, n, m; max_iter=10000, initial_temp=100.0, cooling_rate=0.995)\n",
    "    current_solution = generate_initial_solution(n, m)\n",
    "    current_cost = calculate_max_workload(current_solution, production_times, n, m)\n",
    "    \n",
    "    best_solution = copy(current_solution)\n",
    "    best_cost = current_cost\n",
    "    \n",
    "    temp = initial_temp\n",
    "    costs = Float64[]\n",
    "    \n",
    "    for iter in 1:max_iter\n",
    "        new_solution = generate_neighbor(current_solution, m)\n",
    "        new_cost = calculate_max_workload(new_solution, production_times, n, m)\n",
    "        \n",
    "        delta_cost = new_cost - current_cost\n",
    "        \n",
    "        if delta_cost < 0 || rand() < exp(-delta_cost / temp)\n",
    "            current_solution = new_solution\n",
    "            current_cost = new_cost\n",
    "            \n",
    "            if current_cost < best_cost\n",
    "                best_solution = copy(current_solution)\n",
    "                best_cost = current_cost\n",
    "            end\n",
    "        end\n",
    "        \n",
    "        push!(costs, best_cost)\n",
    "        temp *= cooling_rate\n",
    "        \n",
    "        if iter % 1000 == 0\n",
    "            temp = initial_temp * 0.5\n",
    "        end\n",
    "    end\n",
    "    \n",
    "    return best_solution, best_cost, costs\n",
    "end"
   ]
  },
  {
   "cell_type": "code",
   "execution_count": 5,
   "id": "979013b5-860e-4dc5-ba13-fffdbea947f5",
   "metadata": {},
   "outputs": [
    {
     "data": {
      "text/plain": [
       "([2, 2, 11, 11, 9, 9, 9, 14, 14, 14  …  8, 8, 12, 12, 7, 7, 3, 3, 3, 5], 0.804848, [2.48398, 2.48398, 2.48398, 2.48398, 2.48398, 2.48398, 2.48398, 2.48398, 2.48398, 2.48398  …  0.804848, 0.804848, 0.804848, 0.804848, 0.804848, 0.804848, 0.804848, 0.804848, 0.804848, 0.804848])"
      ]
     },
     "execution_count": 5,
     "metadata": {},
     "output_type": "execute_result"
    }
   ],
   "source": [
    "# Execução e visualização\n",
    "Random.seed!(123)  # Para reprodutibilidade\n",
    "best_solution, best_cost, cost_history = simulated_annealing(\n",
    "    production_times, n, m, \n",
    "    max_iter=1200000, \n",
    "    initial_temp=250.0,\n",
    "    cooling_rate=0.8\n",
    ")\n",
    "\n",
    "# Plot da convergência\n",
    "#plot(1:length(cost_history), cost_history, \n",
    "#    xlabel=\"Iteration\", ylabel=\"Best Cost\", \n",
    "#    label=\"Maximum Workload\", title=\"Simulated Annealing Convergence\")"
   ]
  },
  {
   "cell_type": "code",
   "execution_count": 6,
   "id": "3f6d5f49-4548-43ce-9390-62770a26ba53",
   "metadata": {},
   "outputs": [],
   "source": [
    "# Criar modelo PL completo\n",
    "model_warm = Model(GLPK.Optimizer)\n",
    "\n",
    "@variable(model_warm, x[1:n, 1:m], Bin)\n",
    "@variable(model_warm, b[1:n, 1:m], Bin)  # Início de bloco\n",
    "@variable(model_warm, e[1:n, 1:m], Bin)  # Fim de bloco\n",
    "@variable(model_warm, T >= 0)\n",
    "\n",
    "@objective(model_warm, Min, T)\n",
    "\n",
    "# Restrições originais (contiguidade)\n",
    "for i in 1:n\n",
    "    @constraint(model_warm, sum(x[i, j] for j in 1:m) == 1)\n",
    "end\n",
    "\n",
    "for j in 1:m\n",
    "    @constraint(model_warm, sum(b[i, j] for i in 1:n) == 1)\n",
    "    @constraint(model_warm, sum(e[i, j] for i in 1:n) == 1)\n",
    "    \n",
    "    for i in 1:n\n",
    "        prev_x = (i == 1) ? 0 : x[i-1, j]\n",
    "        next_x = (i == n) ? 0 : x[i+1, j]\n",
    "        \n",
    "        @constraint(model_warm, b[i, j] >= x[i, j] - prev_x)\n",
    "        @constraint(model_warm, b[i, j] <= x[i, j])\n",
    "        @constraint(model_warm, b[i, j] <= 1 - prev_x)\n",
    "        \n",
    "        @constraint(model_warm, e[i, j] >= x[i, j] - next_x)\n",
    "        @constraint(model_warm, e[i, j] <= x[i, j])\n",
    "        @constraint(model_warm, e[i, j] <= 1 - next_x)\n",
    "    end\n",
    "end\n",
    "\n",
    "for j in 1:m\n",
    "    @constraint(model_warm, T >= sum(production_times[j, i] * x[i, j] for i in 1:n))\n",
    "end"
   ]
  },
  {
   "cell_type": "code",
   "execution_count": 7,
   "id": "a2f549ab-b94d-482f-b8c1-2c77a6908fbc",
   "metadata": {},
   "outputs": [],
   "source": [
    "# Warm Start usando solução do SA\n",
    "for i in 1:n, j in 1:m\n",
    "    set_start_value(x[i,j], best_solution[i] == j ? 1.0 : 0.0)\n",
    "    \n",
    "    # Configurar valores iniciais para b e e (início/fim de blocos)\n",
    "    if best_solution[i] == j\n",
    "        prev_val = (i > 1) ? best_solution[i-1] : 0\n",
    "        next_val = (i < n) ? best_solution[i+1] : 0\n",
    "        set_start_value(b[i,j], (best_solution[i] == j) && (prev_val != j))\n",
    "        set_start_value(e[i,j], (best_solution[i] == j) && (next_val != j))\n",
    "    else\n",
    "        set_start_value(b[i,j], 0.0)\n",
    "        set_start_value(e[i,j], 0.0)\n",
    "    end\n",
    "end\n",
    "set_start_value(T, best_cost)"
   ]
  },
  {
   "cell_type": "code",
   "execution_count": 8,
   "id": "6e2ac43c-4ca9-4e74-9daa-52886a26ce22",
   "metadata": {},
   "outputs": [
    {
     "ename": "LoadError",
     "evalue": "InterruptException:",
     "output_type": "error",
     "traceback": [
      "InterruptException:",
      "",
      "Stacktrace:",
      " [1] glp_intopt",
      "   @ ~/.julia/packages/GLPK/2y5V8/src/gen/libglpk_api.jl:342 [inlined]",
      " [2] _solve_mip_problem(model::GLPK.Optimizer)",
      "   @ GLPK ~/.julia/packages/GLPK/2y5V8/src/MOI_wrapper/MOI_wrapper.jl:1399",
      " [3] optimize!(model::GLPK.Optimizer)",
      "   @ GLPK ~/.julia/packages/GLPK/2y5V8/src/MOI_wrapper/MOI_wrapper.jl:1457",
      " [4] optimize!",
      "   @ ~/.julia/packages/MathOptInterface/ej37q/src/Bridges/bridge_optimizer.jl:367 [inlined]",
      " [5] optimize!",
      "   @ ~/.julia/packages/MathOptInterface/ej37q/src/MathOptInterface.jl:122 [inlined]",
      " [6] optimize!(m::MathOptInterface.Utilities.CachingOptimizer{MathOptInterface.Bridges.LazyBridgeOptimizer{GLPK.Optimizer}, MathOptInterface.Utilities.UniversalFallback{MathOptInterface.Utilities.Model{Float64}}})",
      "   @ MathOptInterface.Utilities ~/.julia/packages/MathOptInterface/ej37q/src/Utilities/cachingoptimizer.jl:370",
      " [7] optimize!(model::Model; ignore_optimize_hook::Bool, _differentiation_backend::MathOptInterface.Nonlinear.SparseReverseMode, kwargs::@Kwargs{})",
      "   @ JuMP ~/.julia/packages/JuMP/LKjRR/src/optimizer_interface.jl:609",
      " [8] optimize!(model::Model)",
      "   @ JuMP ~/.julia/packages/JuMP/LKjRR/src/optimizer_interface.jl:560"
     ]
    }
   ],
   "source": [
    "# Configurar parâmetros do solver\n",
    "set_optimizer_attribute(model_warm, \"presolve\", 1)\n",
    "set_optimizer_attribute(model_warm, \"mip_gap\", 0.01)  # Aceita 1% de gap\n",
    "#set_optimizer_attribute(model_warm, \"tm_lim\", 300000)  # Limite de tempo (5 minutos)\n",
    "\n",
    "# Resolver e mostrar resultados\n",
    "optimize!(model_warm)"
   ]
  },
  {
   "cell_type": "code",
   "execution_count": 9,
   "id": "6fd7fa84-ba37-41eb-8060-1900456b4dfc",
   "metadata": {},
   "outputs": [
    {
     "name": "stdout",
     "output_type": "stream",
     "text": [
      "Solução com Warm Start:\n"
     ]
    },
    {
     "name": "stderr",
     "output_type": "stream",
     "text": [
      "\u001b[33m\u001b[1m┌ \u001b[22m\u001b[39m\u001b[33m\u001b[1mWarning: \u001b[22m\u001b[39mThe model has been modified since the last call to `optimize!` (or `optimize!` has not been called yet). If you are iteratively querying solution information and modifying a model, query all the results first, then modify the model.\n",
      "\u001b[33m\u001b[1m└ \u001b[22m\u001b[39m\u001b[90m@ JuMP ~/.julia/packages/JuMP/LKjRR/src/optimizer_interface.jl:1211\u001b[39m\n"
     ]
    },
    {
     "ename": "LoadError",
     "evalue": "OptimizeNotCalled()",
     "output_type": "error",
     "traceback": [
      "OptimizeNotCalled()",
      "",
      "Stacktrace:",
      " [1] get(model::Model, attr::MathOptInterface.ObjectiveValue)",
      "   @ JuMP ~/.julia/packages/JuMP/LKjRR/src/optimizer_interface.jl:1217",
      " [2] objective_value(model::Model; result::Int64)",
      "   @ JuMP ~/.julia/packages/JuMP/LKjRR/src/objective.jl:122",
      " [3] objective_value(model::Model)",
      "   @ JuMP ~/.julia/packages/JuMP/LKjRR/src/objective.jl:118",
      " [4] top-level scope",
      "   @ In[9]:2"
     ]
    }
   ],
   "source": [
    "println(\"Solução com Warm Start:\")\n",
    "println(\"Carga máxima: \", objective_value(model_warm))\n",
    "println(\"Gap de otimalidade: \", relative_gap(model_warm))\n",
    "\n",
    "# Visualização comparativa\n",
    "sa_assignment = best_solution\n",
    "hybrid_assignment = [findfirst(j -> value(x[i,j]) > 0.5, 1:m) for i in 1:n]\n",
    "\n",
    "p1 = bar(sa_assignment, title=\"SA Puro\", ylim=(0,m+1))\n",
    "p2 = bar(hybrid_assignment, title=\"SA + PL com Warm Start\", ylim=(0,m+1))\n",
    "plot(p1, p2, layout=(2,1), size=(800,600))"
   ]
  }
 ],
 "metadata": {
  "kernelspec": {
   "display_name": "Julia 1.11.5",
   "language": "julia",
   "name": "julia-1.11"
  },
  "language_info": {
   "file_extension": ".jl",
   "mimetype": "application/julia",
   "name": "julia",
   "version": "1.11.5"
  }
 },
 "nbformat": 4,
 "nbformat_minor": 5
}
